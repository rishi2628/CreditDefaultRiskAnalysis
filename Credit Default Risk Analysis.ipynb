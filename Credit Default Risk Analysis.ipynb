{
 "cells": [
  {
   "cell_type": "markdown",
   "metadata": {},
   "source": [
    "# <font color = green> Case Study - Credit Risk Modelling to determine Obligatory Capital </font>"
   ]
  },
  {
   "cell_type": "markdown",
   "metadata": {},
   "source": [
    "### <font color = green>1.\tFirst look at the Data"
   ]
  },
  {
   "cell_type": "markdown",
   "metadata": {},
   "source": [
    "##### Description of the Dataset\n",
    "---\n",
    "This dataset contains information on demographic factors, credit data, history of payment, and bill statements of credit card clients in Taiwan from April 2005 to September 2005.\n",
    "The column default.payment.next.month classifies each client on the fact that whether they will default payment next month as 1 or not as 0."
   ]
  },
  {
   "cell_type": "markdown",
   "metadata": {},
   "source": [
    "1. ID: ID of each client\n",
    "2. LIMIT_BAL: Amount of given credit in NT dollars (includes individual and family/supplementary credit\n",
    "3. SEX: Gender (1=male, 2=female)\n",
    "4. EDUCATION: (1=graduate school, 2=university, 3=high school, 4=others, 5=unknown, 6=unknown)\n",
    "5. MARRIAGE: Marital status (1=married, 2=single, 3=others)\n",
    "6. AGE: Age in years\n",
    "7. PAY_0: Repayment status in Present (negative=pay duly or in advance, x=payment delay for x month)\n",
    "8. PAY_2: Repayment status in Last month (scale same as above)\n",
    "9. PAY_3: Repayment status in Present minus two (scale same as above)\n",
    "10. PAY_4: Repayment status in Present minus three (scale same as above)\n",
    "11. PAY_5: Repayment status in Present minus four (scale same as above)\n",
    "12. PAY_6: Repayment status in Present minus five (scale same as above)\n",
    "13. BILL_AMT1: Amount of bill statement in present (NT dollar)\n",
    "14. BILL_AMT2: Amount of bill statement in Last (NT dollar)\n",
    "15. BILL_AMT3: Amount of bill statement in Present minus two (NT dollar)\n",
    "16. BILL_AMT4: Amount of bill statement in Present minus three (NT dollar)\n",
    "17. BILL_AMT5: Amount of bill statement in Present minus four (NT dollar)\n",
    "18. BILL_AMT6: Amount of bill statement in Present minus five (NT dollar)\n",
    "19. PAY_AMT1: Amount of previous payment in Present (NT dollar)\n",
    "20. PAY_AMT2: Amount of previous payment in Last (NT dollar)\n",
    "21. PAY_AMT3: Amount of previous payment in Present minus two (NT dollar)\n",
    "22. PAY_AMT4: Amount of previous payment in Present minus three (NT dollar)\n",
    "23. PAY_AMT5: Amount of previous payment in Present minus four (NT dollar)\n",
    "24. PAY_AMT6: Amount of previous payment in Present minus five (NT dollar)\n",
    "25. default.payment.next.month: Default payment (1=yes, 0=no)"
   ]
  },
  {
   "cell_type": "markdown",
   "metadata": {},
   "source": [
    "##### Importing Packages\n",
    "---"
   ]
  },
  {
   "cell_type": "code",
   "execution_count": 2,
   "metadata": {},
   "outputs": [],
   "source": [
    "import numpy as np\n",
    "np.set_printoptions(precision=4)                    # To display values only upto four decimal places. \n",
    "\n",
    "import pandas as pd\n",
    "pd.set_option('mode.chained_assignment', None)      # To suppress pandas warnings.\n",
    "pd.set_option('display.max_colwidth', -1)           # To display all the data in the columns.\n",
    "pd.options.display.max_columns = 40                 # To display all the columns. (Set the value to a high number)\n",
    "\n",
    "import pandas_profiling\n",
    "\n",
    "import matplotlib.pyplot as plt\n",
    "plt.style.use('seaborn-whitegrid')                  # To apply seaborn whitegrid style to the plots.\n",
    "plt.rc('figure', figsize=(10, 8))                   # Set the default figure size of plots.\n",
    "%matplotlib inline\n",
    "\n",
    "import warnings\n",
    "warnings.filterwarnings('ignore')                   # To suppress all the warnings in the notebook.\n",
    "\n",
    "import seaborn as sns\n",
    "\n",
    "from sklearn.linear_model import LogisticRegression\n",
    "from sklearn.model_selection import train_test_split, cross_val_score, GridSearchCV\n",
    "from sklearn.metrics import accuracy_score, confusion_matrix, classification_report, roc_curve, roc_auc_score"
   ]
  },
  {
   "cell_type": "code",
   "execution_count": 3,
   "metadata": {},
   "outputs": [],
   "source": [
    "from IPython.core.interactiveshell import InteractiveShell\n",
    "\n",
    "InteractiveShell.ast_node_interactivity = \"all\""
   ]
  },
  {
   "cell_type": "markdown",
   "metadata": {},
   "source": [
    "##### Read Data\n",
    "---"
   ]
  },
  {
   "cell_type": "code",
   "execution_count": 4,
   "metadata": {},
   "outputs": [],
   "source": [
    "df = pd.read_csv('https://raw.githubusercontent.com/insaid2018/Term-2/master/Data/UCI_Credit_Card.csv')"
   ]
  },
  {
   "cell_type": "code",
   "execution_count": 5,
   "metadata": {},
   "outputs": [
    {
     "name": "stdout",
     "output_type": "stream",
     "text": [
      "<class 'pandas.core.frame.DataFrame'>\n",
      "RangeIndex: 30000 entries, 0 to 29999\n",
      "Data columns (total 25 columns):\n",
      "ID                            30000 non-null int64\n",
      "LIMIT_BAL                     30000 non-null float64\n",
      "SEX                           30000 non-null int64\n",
      "EDUCATION                     30000 non-null int64\n",
      "MARRIAGE                      30000 non-null int64\n",
      "AGE                           30000 non-null int64\n",
      "PAY_0                         30000 non-null int64\n",
      "PAY_2                         30000 non-null int64\n",
      "PAY_3                         30000 non-null int64\n",
      "PAY_4                         30000 non-null int64\n",
      "PAY_5                         30000 non-null int64\n",
      "PAY_6                         30000 non-null int64\n",
      "BILL_AMT1                     30000 non-null float64\n",
      "BILL_AMT2                     30000 non-null float64\n",
      "BILL_AMT3                     30000 non-null float64\n",
      "BILL_AMT4                     30000 non-null float64\n",
      "BILL_AMT5                     30000 non-null float64\n",
      "BILL_AMT6                     30000 non-null float64\n",
      "PAY_AMT1                      30000 non-null float64\n",
      "PAY_AMT2                      30000 non-null float64\n",
      "PAY_AMT3                      30000 non-null float64\n",
      "PAY_AMT4                      30000 non-null float64\n",
      "PAY_AMT5                      30000 non-null float64\n",
      "PAY_AMT6                      30000 non-null float64\n",
      "default.payment.next.month    30000 non-null int64\n",
      "dtypes: float64(13), int64(12)\n",
      "memory usage: 5.7 MB\n"
     ]
    }
   ],
   "source": [
    "df.info()"
   ]
  },
  {
   "cell_type": "markdown",
   "metadata": {},
   "source": [
    "- ```info``` function gives us the following insights into the data:\n",
    "- There are a total of **30000 samples (rows)** and **32 columns** in the dataset.\n",
    "  \n",
    "- There are **25 columns** and everyone is having a **numeric** datatype.\n",
    "  \n",
    "- There are **0 missing** values in the data."
   ]
  },
  {
   "cell_type": "code",
   "execution_count": 6,
   "metadata": {},
   "outputs": [
    {
     "data": {
      "text/html": [
       "<div>\n",
       "<style scoped>\n",
       "    .dataframe tbody tr th:only-of-type {\n",
       "        vertical-align: middle;\n",
       "    }\n",
       "\n",
       "    .dataframe tbody tr th {\n",
       "        vertical-align: top;\n",
       "    }\n",
       "\n",
       "    .dataframe thead th {\n",
       "        text-align: right;\n",
       "    }\n",
       "</style>\n",
       "<table border=\"1\" class=\"dataframe\">\n",
       "  <thead>\n",
       "    <tr style=\"text-align: right;\">\n",
       "      <th></th>\n",
       "      <th>ID</th>\n",
       "      <th>LIMIT_BAL</th>\n",
       "      <th>SEX</th>\n",
       "      <th>EDUCATION</th>\n",
       "      <th>MARRIAGE</th>\n",
       "      <th>AGE</th>\n",
       "      <th>PAY_0</th>\n",
       "      <th>PAY_2</th>\n",
       "      <th>PAY_3</th>\n",
       "      <th>PAY_4</th>\n",
       "      <th>PAY_5</th>\n",
       "      <th>PAY_6</th>\n",
       "      <th>BILL_AMT1</th>\n",
       "      <th>BILL_AMT2</th>\n",
       "      <th>BILL_AMT3</th>\n",
       "      <th>BILL_AMT4</th>\n",
       "      <th>BILL_AMT5</th>\n",
       "      <th>BILL_AMT6</th>\n",
       "      <th>PAY_AMT1</th>\n",
       "      <th>PAY_AMT2</th>\n",
       "      <th>PAY_AMT3</th>\n",
       "      <th>PAY_AMT4</th>\n",
       "      <th>PAY_AMT5</th>\n",
       "      <th>PAY_AMT6</th>\n",
       "      <th>default.payment.next.month</th>\n",
       "    </tr>\n",
       "  </thead>\n",
       "  <tbody>\n",
       "    <tr>\n",
       "      <th>0</th>\n",
       "      <td>1</td>\n",
       "      <td>20000.0</td>\n",
       "      <td>2</td>\n",
       "      <td>2</td>\n",
       "      <td>1</td>\n",
       "      <td>24</td>\n",
       "      <td>2</td>\n",
       "      <td>2</td>\n",
       "      <td>-1</td>\n",
       "      <td>-1</td>\n",
       "      <td>-2</td>\n",
       "      <td>-2</td>\n",
       "      <td>3913.0</td>\n",
       "      <td>3102.0</td>\n",
       "      <td>689.0</td>\n",
       "      <td>0.0</td>\n",
       "      <td>0.0</td>\n",
       "      <td>0.0</td>\n",
       "      <td>0.0</td>\n",
       "      <td>689.0</td>\n",
       "      <td>0.0</td>\n",
       "      <td>0.0</td>\n",
       "      <td>0.0</td>\n",
       "      <td>0.0</td>\n",
       "      <td>1</td>\n",
       "    </tr>\n",
       "    <tr>\n",
       "      <th>1</th>\n",
       "      <td>2</td>\n",
       "      <td>120000.0</td>\n",
       "      <td>2</td>\n",
       "      <td>2</td>\n",
       "      <td>2</td>\n",
       "      <td>26</td>\n",
       "      <td>-1</td>\n",
       "      <td>2</td>\n",
       "      <td>0</td>\n",
       "      <td>0</td>\n",
       "      <td>0</td>\n",
       "      <td>2</td>\n",
       "      <td>2682.0</td>\n",
       "      <td>1725.0</td>\n",
       "      <td>2682.0</td>\n",
       "      <td>3272.0</td>\n",
       "      <td>3455.0</td>\n",
       "      <td>3261.0</td>\n",
       "      <td>0.0</td>\n",
       "      <td>1000.0</td>\n",
       "      <td>1000.0</td>\n",
       "      <td>1000.0</td>\n",
       "      <td>0.0</td>\n",
       "      <td>2000.0</td>\n",
       "      <td>1</td>\n",
       "    </tr>\n",
       "    <tr>\n",
       "      <th>2</th>\n",
       "      <td>3</td>\n",
       "      <td>90000.0</td>\n",
       "      <td>2</td>\n",
       "      <td>2</td>\n",
       "      <td>2</td>\n",
       "      <td>34</td>\n",
       "      <td>0</td>\n",
       "      <td>0</td>\n",
       "      <td>0</td>\n",
       "      <td>0</td>\n",
       "      <td>0</td>\n",
       "      <td>0</td>\n",
       "      <td>29239.0</td>\n",
       "      <td>14027.0</td>\n",
       "      <td>13559.0</td>\n",
       "      <td>14331.0</td>\n",
       "      <td>14948.0</td>\n",
       "      <td>15549.0</td>\n",
       "      <td>1518.0</td>\n",
       "      <td>1500.0</td>\n",
       "      <td>1000.0</td>\n",
       "      <td>1000.0</td>\n",
       "      <td>1000.0</td>\n",
       "      <td>5000.0</td>\n",
       "      <td>0</td>\n",
       "    </tr>\n",
       "    <tr>\n",
       "      <th>3</th>\n",
       "      <td>4</td>\n",
       "      <td>50000.0</td>\n",
       "      <td>2</td>\n",
       "      <td>2</td>\n",
       "      <td>1</td>\n",
       "      <td>37</td>\n",
       "      <td>0</td>\n",
       "      <td>0</td>\n",
       "      <td>0</td>\n",
       "      <td>0</td>\n",
       "      <td>0</td>\n",
       "      <td>0</td>\n",
       "      <td>46990.0</td>\n",
       "      <td>48233.0</td>\n",
       "      <td>49291.0</td>\n",
       "      <td>28314.0</td>\n",
       "      <td>28959.0</td>\n",
       "      <td>29547.0</td>\n",
       "      <td>2000.0</td>\n",
       "      <td>2019.0</td>\n",
       "      <td>1200.0</td>\n",
       "      <td>1100.0</td>\n",
       "      <td>1069.0</td>\n",
       "      <td>1000.0</td>\n",
       "      <td>0</td>\n",
       "    </tr>\n",
       "    <tr>\n",
       "      <th>4</th>\n",
       "      <td>5</td>\n",
       "      <td>50000.0</td>\n",
       "      <td>1</td>\n",
       "      <td>2</td>\n",
       "      <td>1</td>\n",
       "      <td>57</td>\n",
       "      <td>-1</td>\n",
       "      <td>0</td>\n",
       "      <td>-1</td>\n",
       "      <td>0</td>\n",
       "      <td>0</td>\n",
       "      <td>0</td>\n",
       "      <td>8617.0</td>\n",
       "      <td>5670.0</td>\n",
       "      <td>35835.0</td>\n",
       "      <td>20940.0</td>\n",
       "      <td>19146.0</td>\n",
       "      <td>19131.0</td>\n",
       "      <td>2000.0</td>\n",
       "      <td>36681.0</td>\n",
       "      <td>10000.0</td>\n",
       "      <td>9000.0</td>\n",
       "      <td>689.0</td>\n",
       "      <td>679.0</td>\n",
       "      <td>0</td>\n",
       "    </tr>\n",
       "  </tbody>\n",
       "</table>\n",
       "</div>"
      ],
      "text/plain": [
       "   ID  LIMIT_BAL  SEX  EDUCATION  MARRIAGE  AGE  PAY_0  PAY_2  PAY_3  PAY_4  \\\n",
       "0  1   20000.0    2    2          1         24   2      2     -1     -1       \n",
       "1  2   120000.0   2    2          2         26  -1      2      0      0       \n",
       "2  3   90000.0    2    2          2         34   0      0      0      0       \n",
       "3  4   50000.0    2    2          1         37   0      0      0      0       \n",
       "4  5   50000.0    1    2          1         57  -1      0     -1      0       \n",
       "\n",
       "   PAY_5  PAY_6  BILL_AMT1  BILL_AMT2  BILL_AMT3  BILL_AMT4  BILL_AMT5  \\\n",
       "0 -2     -2      3913.0     3102.0     689.0      0.0        0.0         \n",
       "1  0      2      2682.0     1725.0     2682.0     3272.0     3455.0      \n",
       "2  0      0      29239.0    14027.0    13559.0    14331.0    14948.0     \n",
       "3  0      0      46990.0    48233.0    49291.0    28314.0    28959.0     \n",
       "4  0      0      8617.0     5670.0     35835.0    20940.0    19146.0     \n",
       "\n",
       "   BILL_AMT6  PAY_AMT1  PAY_AMT2  PAY_AMT3  PAY_AMT4  PAY_AMT5  PAY_AMT6  \\\n",
       "0  0.0        0.0       689.0     0.0       0.0       0.0       0.0        \n",
       "1  3261.0     0.0       1000.0    1000.0    1000.0    0.0       2000.0     \n",
       "2  15549.0    1518.0    1500.0    1000.0    1000.0    1000.0    5000.0     \n",
       "3  29547.0    2000.0    2019.0    1200.0    1100.0    1069.0    1000.0     \n",
       "4  19131.0    2000.0    36681.0   10000.0   9000.0    689.0     679.0      \n",
       "\n",
       "   default.payment.next.month  \n",
       "0  1                           \n",
       "1  1                           \n",
       "2  0                           \n",
       "3  0                           \n",
       "4  0                           "
      ]
     },
     "execution_count": 6,
     "metadata": {},
     "output_type": "execute_result"
    }
   ],
   "source": [
    "df.head()"
   ]
  },
  {
   "cell_type": "code",
   "execution_count": 7,
   "metadata": {},
   "outputs": [
    {
     "data": {
      "text/html": [
       "<div>\n",
       "<style scoped>\n",
       "    .dataframe tbody tr th:only-of-type {\n",
       "        vertical-align: middle;\n",
       "    }\n",
       "\n",
       "    .dataframe tbody tr th {\n",
       "        vertical-align: top;\n",
       "    }\n",
       "\n",
       "    .dataframe thead th {\n",
       "        text-align: right;\n",
       "    }\n",
       "</style>\n",
       "<table border=\"1\" class=\"dataframe\">\n",
       "  <thead>\n",
       "    <tr style=\"text-align: right;\">\n",
       "      <th></th>\n",
       "      <th>ID</th>\n",
       "      <th>LIMIT_BAL</th>\n",
       "      <th>SEX</th>\n",
       "      <th>EDUCATION</th>\n",
       "      <th>MARRIAGE</th>\n",
       "      <th>AGE</th>\n",
       "      <th>PAY_0</th>\n",
       "      <th>PAY_2</th>\n",
       "      <th>PAY_3</th>\n",
       "      <th>PAY_4</th>\n",
       "      <th>PAY_5</th>\n",
       "      <th>PAY_6</th>\n",
       "      <th>BILL_AMT1</th>\n",
       "      <th>BILL_AMT2</th>\n",
       "      <th>BILL_AMT3</th>\n",
       "      <th>BILL_AMT4</th>\n",
       "      <th>BILL_AMT5</th>\n",
       "      <th>BILL_AMT6</th>\n",
       "      <th>PAY_AMT1</th>\n",
       "      <th>PAY_AMT2</th>\n",
       "      <th>PAY_AMT3</th>\n",
       "      <th>PAY_AMT4</th>\n",
       "      <th>PAY_AMT5</th>\n",
       "      <th>PAY_AMT6</th>\n",
       "      <th>default.payment.next.month</th>\n",
       "    </tr>\n",
       "  </thead>\n",
       "  <tbody>\n",
       "    <tr>\n",
       "      <th>count</th>\n",
       "      <td>30000.000000</td>\n",
       "      <td>30000.000000</td>\n",
       "      <td>30000.000000</td>\n",
       "      <td>30000.000000</td>\n",
       "      <td>30000.000000</td>\n",
       "      <td>30000.000000</td>\n",
       "      <td>30000.000000</td>\n",
       "      <td>30000.000000</td>\n",
       "      <td>30000.000000</td>\n",
       "      <td>30000.000000</td>\n",
       "      <td>30000.000000</td>\n",
       "      <td>30000.000000</td>\n",
       "      <td>30000.000000</td>\n",
       "      <td>30000.000000</td>\n",
       "      <td>3.000000e+04</td>\n",
       "      <td>30000.000000</td>\n",
       "      <td>30000.000000</td>\n",
       "      <td>30000.000000</td>\n",
       "      <td>30000.000000</td>\n",
       "      <td>3.000000e+04</td>\n",
       "      <td>30000.00000</td>\n",
       "      <td>30000.000000</td>\n",
       "      <td>30000.000000</td>\n",
       "      <td>30000.000000</td>\n",
       "      <td>30000.000000</td>\n",
       "    </tr>\n",
       "    <tr>\n",
       "      <th>mean</th>\n",
       "      <td>15000.500000</td>\n",
       "      <td>167484.322667</td>\n",
       "      <td>1.603733</td>\n",
       "      <td>1.853133</td>\n",
       "      <td>1.551867</td>\n",
       "      <td>35.485500</td>\n",
       "      <td>-0.016700</td>\n",
       "      <td>-0.133767</td>\n",
       "      <td>-0.166200</td>\n",
       "      <td>-0.220667</td>\n",
       "      <td>-0.266200</td>\n",
       "      <td>-0.291100</td>\n",
       "      <td>51223.330900</td>\n",
       "      <td>49179.075167</td>\n",
       "      <td>4.701315e+04</td>\n",
       "      <td>43262.948967</td>\n",
       "      <td>40311.400967</td>\n",
       "      <td>38871.760400</td>\n",
       "      <td>5663.580500</td>\n",
       "      <td>5.921163e+03</td>\n",
       "      <td>5225.68150</td>\n",
       "      <td>4826.076867</td>\n",
       "      <td>4799.387633</td>\n",
       "      <td>5215.502567</td>\n",
       "      <td>0.221200</td>\n",
       "    </tr>\n",
       "    <tr>\n",
       "      <th>std</th>\n",
       "      <td>8660.398374</td>\n",
       "      <td>129747.661567</td>\n",
       "      <td>0.489129</td>\n",
       "      <td>0.790349</td>\n",
       "      <td>0.521970</td>\n",
       "      <td>9.217904</td>\n",
       "      <td>1.123802</td>\n",
       "      <td>1.197186</td>\n",
       "      <td>1.196868</td>\n",
       "      <td>1.169139</td>\n",
       "      <td>1.133187</td>\n",
       "      <td>1.149988</td>\n",
       "      <td>73635.860576</td>\n",
       "      <td>71173.768783</td>\n",
       "      <td>6.934939e+04</td>\n",
       "      <td>64332.856134</td>\n",
       "      <td>60797.155770</td>\n",
       "      <td>59554.107537</td>\n",
       "      <td>16563.280354</td>\n",
       "      <td>2.304087e+04</td>\n",
       "      <td>17606.96147</td>\n",
       "      <td>15666.159744</td>\n",
       "      <td>15278.305679</td>\n",
       "      <td>17777.465775</td>\n",
       "      <td>0.415062</td>\n",
       "    </tr>\n",
       "    <tr>\n",
       "      <th>min</th>\n",
       "      <td>1.000000</td>\n",
       "      <td>10000.000000</td>\n",
       "      <td>1.000000</td>\n",
       "      <td>0.000000</td>\n",
       "      <td>0.000000</td>\n",
       "      <td>21.000000</td>\n",
       "      <td>-2.000000</td>\n",
       "      <td>-2.000000</td>\n",
       "      <td>-2.000000</td>\n",
       "      <td>-2.000000</td>\n",
       "      <td>-2.000000</td>\n",
       "      <td>-2.000000</td>\n",
       "      <td>-165580.000000</td>\n",
       "      <td>-69777.000000</td>\n",
       "      <td>-1.572640e+05</td>\n",
       "      <td>-170000.000000</td>\n",
       "      <td>-81334.000000</td>\n",
       "      <td>-339603.000000</td>\n",
       "      <td>0.000000</td>\n",
       "      <td>0.000000e+00</td>\n",
       "      <td>0.00000</td>\n",
       "      <td>0.000000</td>\n",
       "      <td>0.000000</td>\n",
       "      <td>0.000000</td>\n",
       "      <td>0.000000</td>\n",
       "    </tr>\n",
       "    <tr>\n",
       "      <th>25%</th>\n",
       "      <td>7500.750000</td>\n",
       "      <td>50000.000000</td>\n",
       "      <td>1.000000</td>\n",
       "      <td>1.000000</td>\n",
       "      <td>1.000000</td>\n",
       "      <td>28.000000</td>\n",
       "      <td>-1.000000</td>\n",
       "      <td>-1.000000</td>\n",
       "      <td>-1.000000</td>\n",
       "      <td>-1.000000</td>\n",
       "      <td>-1.000000</td>\n",
       "      <td>-1.000000</td>\n",
       "      <td>3558.750000</td>\n",
       "      <td>2984.750000</td>\n",
       "      <td>2.666250e+03</td>\n",
       "      <td>2326.750000</td>\n",
       "      <td>1763.000000</td>\n",
       "      <td>1256.000000</td>\n",
       "      <td>1000.000000</td>\n",
       "      <td>8.330000e+02</td>\n",
       "      <td>390.00000</td>\n",
       "      <td>296.000000</td>\n",
       "      <td>252.500000</td>\n",
       "      <td>117.750000</td>\n",
       "      <td>0.000000</td>\n",
       "    </tr>\n",
       "    <tr>\n",
       "      <th>50%</th>\n",
       "      <td>15000.500000</td>\n",
       "      <td>140000.000000</td>\n",
       "      <td>2.000000</td>\n",
       "      <td>2.000000</td>\n",
       "      <td>2.000000</td>\n",
       "      <td>34.000000</td>\n",
       "      <td>0.000000</td>\n",
       "      <td>0.000000</td>\n",
       "      <td>0.000000</td>\n",
       "      <td>0.000000</td>\n",
       "      <td>0.000000</td>\n",
       "      <td>0.000000</td>\n",
       "      <td>22381.500000</td>\n",
       "      <td>21200.000000</td>\n",
       "      <td>2.008850e+04</td>\n",
       "      <td>19052.000000</td>\n",
       "      <td>18104.500000</td>\n",
       "      <td>17071.000000</td>\n",
       "      <td>2100.000000</td>\n",
       "      <td>2.009000e+03</td>\n",
       "      <td>1800.00000</td>\n",
       "      <td>1500.000000</td>\n",
       "      <td>1500.000000</td>\n",
       "      <td>1500.000000</td>\n",
       "      <td>0.000000</td>\n",
       "    </tr>\n",
       "    <tr>\n",
       "      <th>75%</th>\n",
       "      <td>22500.250000</td>\n",
       "      <td>240000.000000</td>\n",
       "      <td>2.000000</td>\n",
       "      <td>2.000000</td>\n",
       "      <td>2.000000</td>\n",
       "      <td>41.000000</td>\n",
       "      <td>0.000000</td>\n",
       "      <td>0.000000</td>\n",
       "      <td>0.000000</td>\n",
       "      <td>0.000000</td>\n",
       "      <td>0.000000</td>\n",
       "      <td>0.000000</td>\n",
       "      <td>67091.000000</td>\n",
       "      <td>64006.250000</td>\n",
       "      <td>6.016475e+04</td>\n",
       "      <td>54506.000000</td>\n",
       "      <td>50190.500000</td>\n",
       "      <td>49198.250000</td>\n",
       "      <td>5006.000000</td>\n",
       "      <td>5.000000e+03</td>\n",
       "      <td>4505.00000</td>\n",
       "      <td>4013.250000</td>\n",
       "      <td>4031.500000</td>\n",
       "      <td>4000.000000</td>\n",
       "      <td>0.000000</td>\n",
       "    </tr>\n",
       "    <tr>\n",
       "      <th>max</th>\n",
       "      <td>30000.000000</td>\n",
       "      <td>1000000.000000</td>\n",
       "      <td>2.000000</td>\n",
       "      <td>6.000000</td>\n",
       "      <td>3.000000</td>\n",
       "      <td>79.000000</td>\n",
       "      <td>8.000000</td>\n",
       "      <td>8.000000</td>\n",
       "      <td>8.000000</td>\n",
       "      <td>8.000000</td>\n",
       "      <td>8.000000</td>\n",
       "      <td>8.000000</td>\n",
       "      <td>964511.000000</td>\n",
       "      <td>983931.000000</td>\n",
       "      <td>1.664089e+06</td>\n",
       "      <td>891586.000000</td>\n",
       "      <td>927171.000000</td>\n",
       "      <td>961664.000000</td>\n",
       "      <td>873552.000000</td>\n",
       "      <td>1.684259e+06</td>\n",
       "      <td>896040.00000</td>\n",
       "      <td>621000.000000</td>\n",
       "      <td>426529.000000</td>\n",
       "      <td>528666.000000</td>\n",
       "      <td>1.000000</td>\n",
       "    </tr>\n",
       "  </tbody>\n",
       "</table>\n",
       "</div>"
      ],
      "text/plain": [
       "                 ID       LIMIT_BAL           SEX     EDUCATION      MARRIAGE  \\\n",
       "count  30000.000000  30000.000000    30000.000000  30000.000000  30000.000000   \n",
       "mean   15000.500000  167484.322667   1.603733      1.853133      1.551867       \n",
       "std    8660.398374   129747.661567   0.489129      0.790349      0.521970       \n",
       "min    1.000000      10000.000000    1.000000      0.000000      0.000000       \n",
       "25%    7500.750000   50000.000000    1.000000      1.000000      1.000000       \n",
       "50%    15000.500000  140000.000000   2.000000      2.000000      2.000000       \n",
       "75%    22500.250000  240000.000000   2.000000      2.000000      2.000000       \n",
       "max    30000.000000  1000000.000000  2.000000      6.000000      3.000000       \n",
       "\n",
       "                AGE         PAY_0         PAY_2         PAY_3         PAY_4  \\\n",
       "count  30000.000000  30000.000000  30000.000000  30000.000000  30000.000000   \n",
       "mean   35.485500    -0.016700     -0.133767     -0.166200     -0.220667       \n",
       "std    9.217904      1.123802      1.197186      1.196868      1.169139       \n",
       "min    21.000000    -2.000000     -2.000000     -2.000000     -2.000000       \n",
       "25%    28.000000    -1.000000     -1.000000     -1.000000     -1.000000       \n",
       "50%    34.000000     0.000000      0.000000      0.000000      0.000000       \n",
       "75%    41.000000     0.000000      0.000000      0.000000      0.000000       \n",
       "max    79.000000     8.000000      8.000000      8.000000      8.000000       \n",
       "\n",
       "              PAY_5         PAY_6      BILL_AMT1      BILL_AMT2     BILL_AMT3  \\\n",
       "count  30000.000000  30000.000000  30000.000000   30000.000000   3.000000e+04   \n",
       "mean  -0.266200     -0.291100      51223.330900   49179.075167   4.701315e+04   \n",
       "std    1.133187      1.149988      73635.860576   71173.768783   6.934939e+04   \n",
       "min   -2.000000     -2.000000     -165580.000000 -69777.000000  -1.572640e+05   \n",
       "25%   -1.000000     -1.000000      3558.750000    2984.750000    2.666250e+03   \n",
       "50%    0.000000      0.000000      22381.500000   21200.000000   2.008850e+04   \n",
       "75%    0.000000      0.000000      67091.000000   64006.250000   6.016475e+04   \n",
       "max    8.000000      8.000000      964511.000000  983931.000000  1.664089e+06   \n",
       "\n",
       "           BILL_AMT4      BILL_AMT5      BILL_AMT6       PAY_AMT1  \\\n",
       "count  30000.000000   30000.000000   30000.000000   30000.000000    \n",
       "mean   43262.948967   40311.400967   38871.760400   5663.580500     \n",
       "std    64332.856134   60797.155770   59554.107537   16563.280354    \n",
       "min   -170000.000000 -81334.000000  -339603.000000  0.000000        \n",
       "25%    2326.750000    1763.000000    1256.000000    1000.000000     \n",
       "50%    19052.000000   18104.500000   17071.000000   2100.000000     \n",
       "75%    54506.000000   50190.500000   49198.250000   5006.000000     \n",
       "max    891586.000000  927171.000000  961664.000000  873552.000000   \n",
       "\n",
       "           PAY_AMT2      PAY_AMT3       PAY_AMT4       PAY_AMT5  \\\n",
       "count  3.000000e+04  30000.00000   30000.000000   30000.000000    \n",
       "mean   5.921163e+03  5225.68150    4826.076867    4799.387633     \n",
       "std    2.304087e+04  17606.96147   15666.159744   15278.305679    \n",
       "min    0.000000e+00  0.00000       0.000000       0.000000        \n",
       "25%    8.330000e+02  390.00000     296.000000     252.500000      \n",
       "50%    2.009000e+03  1800.00000    1500.000000    1500.000000     \n",
       "75%    5.000000e+03  4505.00000    4013.250000    4031.500000     \n",
       "max    1.684259e+06  896040.00000  621000.000000  426529.000000   \n",
       "\n",
       "            PAY_AMT6  default.payment.next.month  \n",
       "count  30000.000000   30000.000000                \n",
       "mean   5215.502567    0.221200                    \n",
       "std    17777.465775   0.415062                    \n",
       "min    0.000000       0.000000                    \n",
       "25%    117.750000     0.000000                    \n",
       "50%    1500.000000    0.000000                    \n",
       "75%    4000.000000    0.000000                    \n",
       "max    528666.000000  1.000000                    "
      ]
     },
     "execution_count": 7,
     "metadata": {},
     "output_type": "execute_result"
    }
   ],
   "source": [
    "df.describe()"
   ]
  },
  {
   "cell_type": "markdown",
   "metadata": {},
   "source": [
    "- ```describe``` function gives us the following insights into the data:\n",
    "  \n",
    "- The distribution of **LIMIT_BAL** is **positive (right) skewed** because the **mean** of **LIMIT_BAL (167484.32)** lies to the **right** of the **median(50%)** value **(140000)**, on a **distribution plot**. \n",
    "  \n",
    "- The **max** value of **LIMIT_BAL (1000000)** is an **outlier** because it lie very far away from the mean.\n",
    "  \n",
    "- Similarly comparing the **75%** and **max** values of the columns starting from **BILL_AMT1** to **PAY_AMT6**, it is evident that they all **contain outliers** as the **differences** between the **75%** and **max** values are **huge**."
   ]
  },
  {
   "cell_type": "markdown",
   "metadata": {},
   "source": [
    "##### Pandas Profiling before Data Preprocessing\n",
    "---"
   ]
  },
  {
   "cell_type": "markdown",
   "metadata": {},
   "source": [
    "- Here, we will perform **Pandas Profiling before preprocessing** our dataset, so we will name the **output file** as __df_before_preprocessing.html__. \n",
    "\n",
    "\n",
    "- The file will be stored in the directory of your notebook. Open it using the jupyter notebook file explorer and take a look at it and see what insights you can develop from it. \n",
    "\n",
    "\n",
    "- Or you can **output the profiling report** in the **current jupyter notebook** as well as shown in the code below. "
   ]
  },
  {
   "cell_type": "code",
   "execution_count": 8,
   "metadata": {},
   "outputs": [],
   "source": [
    "# Performing pandas profiling before data preprocessing.\n",
    "\n",
    "#import pandas_profiling                                                      \n",
    "#profile = pandas_profiling.ProfileReport(df)\n",
    "#profile.to_file(output_file=\"myoutputfile.html\") "
   ]
  },
  {
   "cell_type": "markdown",
   "metadata": {},
   "source": [
    "**Observations from Pandas Profiling before Data Processing** <br><br>\n",
    "__Dataset info__:\n",
    "- Number of variables: 25\n",
    "- Number of observations: 30000\n",
    "- Missing cells: 0 (< 0.0%)\n",
    "\n",
    "\n",
    "__Variables types__: \n",
    "- Numeric = 17\n",
    "- Categorical = 1\n",
    "- Boolean = 2\n",
    "- Rejected = 5\n",
    "\n",
    "<br>\n",
    "\n",
    "- **PAY_AMT2** is **highly skewed (γ1 = 30.454)**.\n",
    "\n",
    "\n",
    "- **BILL_AMT2** is **highly correlated** with **BILL_AMT1 (ρ = 0.95148)**.\n",
    "\n",
    "\n",
    "- **BILL_AMT3** is **highly correlated** with **BILL_AMT2 (ρ = 0.92833)**.\n",
    "\n",
    "\n",
    "- **BILL_AMT4** is **highly correlated** with **BILL_AMT3 (ρ = 0.92397)**.\n",
    "\n",
    "\n",
    "- **BILL_AMT5** is **highly correlated** with **BILL_AMT4 (ρ = 0.94013)**.\n",
    "\n",
    "\n",
    "- **BILL_AMT6** is **highly correlated** with **BILL_AMT5 (ρ = 0.9462)**.\n",
    "\n",
    "\n",
    "- **AGE** column is **normally distributed** as the **mean (35.486)** and **median (34)** values are close to each other.\n",
    "\n",
    "\n",
    "- **BILL_AMT1** has a **skewness** of **2.6639** and **kurtosis** of **9.8063**.\n",
    "\n",
    "  - The distribution is positive (right) skewed as the **mean (51223)** is to the **right** of the **median (22382)**.\n",
    "  \n",
    "  - **95%** samples have a **BILL_AMT1** less than **201200**.\n",
    "  \n",
    "  - **Interquartile range (IQR)** is **63532** and **mean** is **51223**, so extreme outliers will be after ```mean + (3 * IQR)``` ie. **2,41,819**\n",
    "  \n",
    "  - The high value of **kurtosis** implies that the tail is very long and there is a presence of outliers in the data (**maximum value = 964510 is an extreme outlier**).\n",
    "  \n",
    "\n",
    "- **EDUCATION** has data divided into **7** distinct categories. \t\n",
    "\n",
    "  - The category __2__ has the highest share with **14030** samples **(46.8% share)**.\n",
    "  \n",
    "  - Then categories __1__ has **10585** samples **(35.3% share), 3** has **4917** samples **(16.4% share)**.\n",
    "  \n",
    "\n",
    "- **LIMIT_BAL** has a **skewness** of **0.99287 (positive /  right skewed)** and **kurtosis** of **0.53626**.\n",
    "\n",
    "  - **Interquartile range (IQR)** is **190000** and **mean** is **167480**, so extreme outliers will be after **7,37,480** (**maximum value = 1000000 is an extreme outlier**).\n",
    "  \n",
    "  \n",
    "- **MARRIAGE** has **98.7%** samples belonging to **2** categories:\t\t\t \n",
    "\t\t\n",
    "  - **2**: 15964 samples (53.2% share)\t \n",
    " \n",
    "  - **1**: 13659 samples (45.5% share)\n",
    "  \n",
    "\n",
    "- **SEX** has data divided into **2** distinct categories.\t\t\t \t\t\n",
    "\n",
    "  - **2 (Female)**: 18112 samples (60.4% share)\t\t\t \n",
    "\t\t\n",
    "  - **1 (Male)**: 11888 samples (39.6% share)\n",
    "  \n",
    "\n",
    "- **PAY_0** has data divided into **11** distinct categories. \t\n",
    "\n",
    "  - The category __0__ has the highest share with **14737** samples **(49.1% share)**.\n",
    "  \n",
    "  - Then categories __-1__ has **5686** samples **(19.0% share), 1** has **3688** samples **(12.3% share)**.\n",
    "  \n",
    "\n",
    "- In our dependent variable **default.payment.next.month**, all the samples are divided into **2** categories:\n",
    " \n",
    "  - **0 (will not default payment next month)**: 23364 samples (77.9% share)\t\t\t \n",
    "\t\t\n",
    "  - **1 (will default payment next month)**: 6636 samples (22.1% share)\n",
    "  \n",
    "  - There is a significant **class imbalance** in our **dependent variable** as **77.9%** samples belong to **one category** and remaining **22.1%** samples belong to the **other category**.\n",
    "\n",
    "  \n",
    "- All the **remaining columns** can be studied in the same way."
   ]
  },
  {
   "cell_type": "markdown",
   "metadata": {},
   "source": [
    "### <font color = green>4.\tOur Objective defines our modelling procedure"
   ]
  },
  {
   "cell_type": "markdown",
   "metadata": {},
   "source": [
    "### <font color = green>5.\tFeature Engineering"
   ]
  },
  {
   "cell_type": "markdown",
   "metadata": {},
   "source": [
    "###### EDUCATION column contains ordinal data and it can't be simply represented by numerical values.\n",
    "---"
   ]
  },
  {
   "cell_type": "code",
   "execution_count": 9,
   "metadata": {},
   "outputs": [
    {
     "data": {
      "text/plain": [
       "2    14030\n",
       "1    10585\n",
       "3    4917 \n",
       "5    280  \n",
       "4    123  \n",
       "6    51   \n",
       "0    14   \n",
       "Name: EDUCATION, dtype: int64"
      ]
     },
     "execution_count": 9,
     "metadata": {},
     "output_type": "execute_result"
    }
   ],
   "source": [
    "df['EDUCATION'].value_counts()"
   ]
  },
  {
   "cell_type": "markdown",
   "metadata": {},
   "source": [
    "- Ordinal data (the variables have natural, ordered categories and the distances between the categories is not known) \n",
    "- Since the EDUCATION column has a few unknown data points as well, we can create a binary varilable keeing graduate school and university together in 1 and keep all others in 0."
   ]
  },
  {
   "cell_type": "code",
   "execution_count": 10,
   "metadata": {},
   "outputs": [
    {
     "data": {
      "text/html": [
       "<div>\n",
       "<style scoped>\n",
       "    .dataframe tbody tr th:only-of-type {\n",
       "        vertical-align: middle;\n",
       "    }\n",
       "\n",
       "    .dataframe tbody tr th {\n",
       "        vertical-align: top;\n",
       "    }\n",
       "\n",
       "    .dataframe thead th {\n",
       "        text-align: right;\n",
       "    }\n",
       "</style>\n",
       "<table border=\"1\" class=\"dataframe\">\n",
       "  <thead>\n",
       "    <tr style=\"text-align: right;\">\n",
       "      <th></th>\n",
       "      <th>ID</th>\n",
       "      <th>LIMIT_BAL</th>\n",
       "      <th>SEX</th>\n",
       "      <th>EDUCATION</th>\n",
       "      <th>MARRIAGE</th>\n",
       "      <th>AGE</th>\n",
       "      <th>PAY_0</th>\n",
       "      <th>PAY_2</th>\n",
       "      <th>PAY_3</th>\n",
       "      <th>PAY_4</th>\n",
       "      <th>PAY_5</th>\n",
       "      <th>PAY_6</th>\n",
       "      <th>BILL_AMT1</th>\n",
       "      <th>BILL_AMT2</th>\n",
       "      <th>BILL_AMT3</th>\n",
       "      <th>BILL_AMT4</th>\n",
       "      <th>BILL_AMT5</th>\n",
       "      <th>BILL_AMT6</th>\n",
       "      <th>PAY_AMT1</th>\n",
       "      <th>PAY_AMT2</th>\n",
       "      <th>PAY_AMT3</th>\n",
       "      <th>PAY_AMT4</th>\n",
       "      <th>PAY_AMT5</th>\n",
       "      <th>PAY_AMT6</th>\n",
       "      <th>default.payment.next.month</th>\n",
       "    </tr>\n",
       "  </thead>\n",
       "  <tbody>\n",
       "    <tr>\n",
       "      <th>0</th>\n",
       "      <td>1</td>\n",
       "      <td>20000.0</td>\n",
       "      <td>2</td>\n",
       "      <td>1</td>\n",
       "      <td>1</td>\n",
       "      <td>24</td>\n",
       "      <td>2</td>\n",
       "      <td>2</td>\n",
       "      <td>-1</td>\n",
       "      <td>-1</td>\n",
       "      <td>-2</td>\n",
       "      <td>-2</td>\n",
       "      <td>3913.0</td>\n",
       "      <td>3102.0</td>\n",
       "      <td>689.0</td>\n",
       "      <td>0.0</td>\n",
       "      <td>0.0</td>\n",
       "      <td>0.0</td>\n",
       "      <td>0.0</td>\n",
       "      <td>689.0</td>\n",
       "      <td>0.0</td>\n",
       "      <td>0.0</td>\n",
       "      <td>0.0</td>\n",
       "      <td>0.0</td>\n",
       "      <td>1</td>\n",
       "    </tr>\n",
       "    <tr>\n",
       "      <th>1</th>\n",
       "      <td>2</td>\n",
       "      <td>120000.0</td>\n",
       "      <td>2</td>\n",
       "      <td>1</td>\n",
       "      <td>2</td>\n",
       "      <td>26</td>\n",
       "      <td>-1</td>\n",
       "      <td>2</td>\n",
       "      <td>0</td>\n",
       "      <td>0</td>\n",
       "      <td>0</td>\n",
       "      <td>2</td>\n",
       "      <td>2682.0</td>\n",
       "      <td>1725.0</td>\n",
       "      <td>2682.0</td>\n",
       "      <td>3272.0</td>\n",
       "      <td>3455.0</td>\n",
       "      <td>3261.0</td>\n",
       "      <td>0.0</td>\n",
       "      <td>1000.0</td>\n",
       "      <td>1000.0</td>\n",
       "      <td>1000.0</td>\n",
       "      <td>0.0</td>\n",
       "      <td>2000.0</td>\n",
       "      <td>1</td>\n",
       "    </tr>\n",
       "    <tr>\n",
       "      <th>2</th>\n",
       "      <td>3</td>\n",
       "      <td>90000.0</td>\n",
       "      <td>2</td>\n",
       "      <td>1</td>\n",
       "      <td>2</td>\n",
       "      <td>34</td>\n",
       "      <td>0</td>\n",
       "      <td>0</td>\n",
       "      <td>0</td>\n",
       "      <td>0</td>\n",
       "      <td>0</td>\n",
       "      <td>0</td>\n",
       "      <td>29239.0</td>\n",
       "      <td>14027.0</td>\n",
       "      <td>13559.0</td>\n",
       "      <td>14331.0</td>\n",
       "      <td>14948.0</td>\n",
       "      <td>15549.0</td>\n",
       "      <td>1518.0</td>\n",
       "      <td>1500.0</td>\n",
       "      <td>1000.0</td>\n",
       "      <td>1000.0</td>\n",
       "      <td>1000.0</td>\n",
       "      <td>5000.0</td>\n",
       "      <td>0</td>\n",
       "    </tr>\n",
       "    <tr>\n",
       "      <th>3</th>\n",
       "      <td>4</td>\n",
       "      <td>50000.0</td>\n",
       "      <td>2</td>\n",
       "      <td>1</td>\n",
       "      <td>1</td>\n",
       "      <td>37</td>\n",
       "      <td>0</td>\n",
       "      <td>0</td>\n",
       "      <td>0</td>\n",
       "      <td>0</td>\n",
       "      <td>0</td>\n",
       "      <td>0</td>\n",
       "      <td>46990.0</td>\n",
       "      <td>48233.0</td>\n",
       "      <td>49291.0</td>\n",
       "      <td>28314.0</td>\n",
       "      <td>28959.0</td>\n",
       "      <td>29547.0</td>\n",
       "      <td>2000.0</td>\n",
       "      <td>2019.0</td>\n",
       "      <td>1200.0</td>\n",
       "      <td>1100.0</td>\n",
       "      <td>1069.0</td>\n",
       "      <td>1000.0</td>\n",
       "      <td>0</td>\n",
       "    </tr>\n",
       "    <tr>\n",
       "      <th>4</th>\n",
       "      <td>5</td>\n",
       "      <td>50000.0</td>\n",
       "      <td>1</td>\n",
       "      <td>1</td>\n",
       "      <td>1</td>\n",
       "      <td>57</td>\n",
       "      <td>-1</td>\n",
       "      <td>0</td>\n",
       "      <td>-1</td>\n",
       "      <td>0</td>\n",
       "      <td>0</td>\n",
       "      <td>0</td>\n",
       "      <td>8617.0</td>\n",
       "      <td>5670.0</td>\n",
       "      <td>35835.0</td>\n",
       "      <td>20940.0</td>\n",
       "      <td>19146.0</td>\n",
       "      <td>19131.0</td>\n",
       "      <td>2000.0</td>\n",
       "      <td>36681.0</td>\n",
       "      <td>10000.0</td>\n",
       "      <td>9000.0</td>\n",
       "      <td>689.0</td>\n",
       "      <td>679.0</td>\n",
       "      <td>0</td>\n",
       "    </tr>\n",
       "  </tbody>\n",
       "</table>\n",
       "</div>"
      ],
      "text/plain": [
       "   ID  LIMIT_BAL  SEX  EDUCATION  MARRIAGE  AGE  PAY_0  PAY_2  PAY_3  PAY_4  \\\n",
       "0  1   20000.0    2    1          1         24   2      2     -1     -1       \n",
       "1  2   120000.0   2    1          2         26  -1      2      0      0       \n",
       "2  3   90000.0    2    1          2         34   0      0      0      0       \n",
       "3  4   50000.0    2    1          1         37   0      0      0      0       \n",
       "4  5   50000.0    1    1          1         57  -1      0     -1      0       \n",
       "\n",
       "   PAY_5  PAY_6  BILL_AMT1  BILL_AMT2  BILL_AMT3  BILL_AMT4  BILL_AMT5  \\\n",
       "0 -2     -2      3913.0     3102.0     689.0      0.0        0.0         \n",
       "1  0      2      2682.0     1725.0     2682.0     3272.0     3455.0      \n",
       "2  0      0      29239.0    14027.0    13559.0    14331.0    14948.0     \n",
       "3  0      0      46990.0    48233.0    49291.0    28314.0    28959.0     \n",
       "4  0      0      8617.0     5670.0     35835.0    20940.0    19146.0     \n",
       "\n",
       "   BILL_AMT6  PAY_AMT1  PAY_AMT2  PAY_AMT3  PAY_AMT4  PAY_AMT5  PAY_AMT6  \\\n",
       "0  0.0        0.0       689.0     0.0       0.0       0.0       0.0        \n",
       "1  3261.0     0.0       1000.0    1000.0    1000.0    0.0       2000.0     \n",
       "2  15549.0    1518.0    1500.0    1000.0    1000.0    1000.0    5000.0     \n",
       "3  29547.0    2000.0    2019.0    1200.0    1100.0    1069.0    1000.0     \n",
       "4  19131.0    2000.0    36681.0   10000.0   9000.0    689.0     679.0      \n",
       "\n",
       "   default.payment.next.month  \n",
       "0  1                           \n",
       "1  1                           \n",
       "2  0                           \n",
       "3  0                           \n",
       "4  0                           "
      ]
     },
     "execution_count": 10,
     "metadata": {},
     "output_type": "execute_result"
    },
    {
     "data": {
      "text/plain": [
       "1    24615\n",
       "0    5385 \n",
       "Name: EDUCATION, dtype: int64"
      ]
     },
     "execution_count": 10,
     "metadata": {},
     "output_type": "execute_result"
    }
   ],
   "source": [
    "df.iloc[df[df['EDUCATION'] == 2].index,3]=1\n",
    "df.iloc[df[df['EDUCATION'] == 3].index,3]=0\n",
    "df.iloc[df[df['EDUCATION'] == 4].index,3]=0\n",
    "df.iloc[df[df['EDUCATION'] == 5].index,3]=0\n",
    "df.iloc[df[df['EDUCATION'] == 6].index,3]=0\n",
    "df.head()\n",
    "df['EDUCATION'].value_counts()"
   ]
  },
  {
   "cell_type": "markdown",
   "metadata": {},
   "source": [
    "###### **MARRIAGE** column:\n",
    "---"
   ]
  },
  {
   "cell_type": "code",
   "execution_count": 11,
   "metadata": {},
   "outputs": [
    {
     "data": {
      "text/plain": [
       "2    15964\n",
       "1    13659\n",
       "3    323  \n",
       "0    54   \n",
       "Name: MARRIAGE, dtype: int64"
      ]
     },
     "execution_count": 11,
     "metadata": {},
     "output_type": "execute_result"
    }
   ],
   "source": [
    "df['MARRIAGE'].value_counts()"
   ]
  },
  {
   "cell_type": "markdown",
   "metadata": {},
   "source": [
    "- MARRIAGE column contains nominal data and it can't be simply represented by numerical values.\n",
    "- We are redefine the column with the value 1 representing the married while the value 0 represents all the other values from the MARRIAGE column."
   ]
  },
  {
   "cell_type": "code",
   "execution_count": 12,
   "metadata": {},
   "outputs": [
    {
     "data": {
      "text/html": [
       "<div>\n",
       "<style scoped>\n",
       "    .dataframe tbody tr th:only-of-type {\n",
       "        vertical-align: middle;\n",
       "    }\n",
       "\n",
       "    .dataframe tbody tr th {\n",
       "        vertical-align: top;\n",
       "    }\n",
       "\n",
       "    .dataframe thead th {\n",
       "        text-align: right;\n",
       "    }\n",
       "</style>\n",
       "<table border=\"1\" class=\"dataframe\">\n",
       "  <thead>\n",
       "    <tr style=\"text-align: right;\">\n",
       "      <th></th>\n",
       "      <th>ID</th>\n",
       "      <th>LIMIT_BAL</th>\n",
       "      <th>SEX</th>\n",
       "      <th>EDUCATION</th>\n",
       "      <th>MARRIAGE</th>\n",
       "      <th>AGE</th>\n",
       "      <th>PAY_0</th>\n",
       "      <th>PAY_2</th>\n",
       "      <th>PAY_3</th>\n",
       "      <th>PAY_4</th>\n",
       "      <th>PAY_5</th>\n",
       "      <th>PAY_6</th>\n",
       "      <th>BILL_AMT1</th>\n",
       "      <th>BILL_AMT2</th>\n",
       "      <th>BILL_AMT3</th>\n",
       "      <th>BILL_AMT4</th>\n",
       "      <th>BILL_AMT5</th>\n",
       "      <th>BILL_AMT6</th>\n",
       "      <th>PAY_AMT1</th>\n",
       "      <th>PAY_AMT2</th>\n",
       "      <th>PAY_AMT3</th>\n",
       "      <th>PAY_AMT4</th>\n",
       "      <th>PAY_AMT5</th>\n",
       "      <th>PAY_AMT6</th>\n",
       "      <th>default.payment.next.month</th>\n",
       "    </tr>\n",
       "  </thead>\n",
       "  <tbody>\n",
       "    <tr>\n",
       "      <th>0</th>\n",
       "      <td>1</td>\n",
       "      <td>20000.0</td>\n",
       "      <td>2</td>\n",
       "      <td>1</td>\n",
       "      <td>1</td>\n",
       "      <td>24</td>\n",
       "      <td>2</td>\n",
       "      <td>2</td>\n",
       "      <td>-1</td>\n",
       "      <td>-1</td>\n",
       "      <td>-2</td>\n",
       "      <td>-2</td>\n",
       "      <td>3913.0</td>\n",
       "      <td>3102.0</td>\n",
       "      <td>689.0</td>\n",
       "      <td>0.0</td>\n",
       "      <td>0.0</td>\n",
       "      <td>0.0</td>\n",
       "      <td>0.0</td>\n",
       "      <td>689.0</td>\n",
       "      <td>0.0</td>\n",
       "      <td>0.0</td>\n",
       "      <td>0.0</td>\n",
       "      <td>0.0</td>\n",
       "      <td>1</td>\n",
       "    </tr>\n",
       "    <tr>\n",
       "      <th>1</th>\n",
       "      <td>2</td>\n",
       "      <td>120000.0</td>\n",
       "      <td>2</td>\n",
       "      <td>1</td>\n",
       "      <td>0</td>\n",
       "      <td>26</td>\n",
       "      <td>-1</td>\n",
       "      <td>2</td>\n",
       "      <td>0</td>\n",
       "      <td>0</td>\n",
       "      <td>0</td>\n",
       "      <td>2</td>\n",
       "      <td>2682.0</td>\n",
       "      <td>1725.0</td>\n",
       "      <td>2682.0</td>\n",
       "      <td>3272.0</td>\n",
       "      <td>3455.0</td>\n",
       "      <td>3261.0</td>\n",
       "      <td>0.0</td>\n",
       "      <td>1000.0</td>\n",
       "      <td>1000.0</td>\n",
       "      <td>1000.0</td>\n",
       "      <td>0.0</td>\n",
       "      <td>2000.0</td>\n",
       "      <td>1</td>\n",
       "    </tr>\n",
       "    <tr>\n",
       "      <th>2</th>\n",
       "      <td>3</td>\n",
       "      <td>90000.0</td>\n",
       "      <td>2</td>\n",
       "      <td>1</td>\n",
       "      <td>0</td>\n",
       "      <td>34</td>\n",
       "      <td>0</td>\n",
       "      <td>0</td>\n",
       "      <td>0</td>\n",
       "      <td>0</td>\n",
       "      <td>0</td>\n",
       "      <td>0</td>\n",
       "      <td>29239.0</td>\n",
       "      <td>14027.0</td>\n",
       "      <td>13559.0</td>\n",
       "      <td>14331.0</td>\n",
       "      <td>14948.0</td>\n",
       "      <td>15549.0</td>\n",
       "      <td>1518.0</td>\n",
       "      <td>1500.0</td>\n",
       "      <td>1000.0</td>\n",
       "      <td>1000.0</td>\n",
       "      <td>1000.0</td>\n",
       "      <td>5000.0</td>\n",
       "      <td>0</td>\n",
       "    </tr>\n",
       "    <tr>\n",
       "      <th>3</th>\n",
       "      <td>4</td>\n",
       "      <td>50000.0</td>\n",
       "      <td>2</td>\n",
       "      <td>1</td>\n",
       "      <td>1</td>\n",
       "      <td>37</td>\n",
       "      <td>0</td>\n",
       "      <td>0</td>\n",
       "      <td>0</td>\n",
       "      <td>0</td>\n",
       "      <td>0</td>\n",
       "      <td>0</td>\n",
       "      <td>46990.0</td>\n",
       "      <td>48233.0</td>\n",
       "      <td>49291.0</td>\n",
       "      <td>28314.0</td>\n",
       "      <td>28959.0</td>\n",
       "      <td>29547.0</td>\n",
       "      <td>2000.0</td>\n",
       "      <td>2019.0</td>\n",
       "      <td>1200.0</td>\n",
       "      <td>1100.0</td>\n",
       "      <td>1069.0</td>\n",
       "      <td>1000.0</td>\n",
       "      <td>0</td>\n",
       "    </tr>\n",
       "    <tr>\n",
       "      <th>4</th>\n",
       "      <td>5</td>\n",
       "      <td>50000.0</td>\n",
       "      <td>1</td>\n",
       "      <td>1</td>\n",
       "      <td>1</td>\n",
       "      <td>57</td>\n",
       "      <td>-1</td>\n",
       "      <td>0</td>\n",
       "      <td>-1</td>\n",
       "      <td>0</td>\n",
       "      <td>0</td>\n",
       "      <td>0</td>\n",
       "      <td>8617.0</td>\n",
       "      <td>5670.0</td>\n",
       "      <td>35835.0</td>\n",
       "      <td>20940.0</td>\n",
       "      <td>19146.0</td>\n",
       "      <td>19131.0</td>\n",
       "      <td>2000.0</td>\n",
       "      <td>36681.0</td>\n",
       "      <td>10000.0</td>\n",
       "      <td>9000.0</td>\n",
       "      <td>689.0</td>\n",
       "      <td>679.0</td>\n",
       "      <td>0</td>\n",
       "    </tr>\n",
       "  </tbody>\n",
       "</table>\n",
       "</div>"
      ],
      "text/plain": [
       "   ID  LIMIT_BAL  SEX  EDUCATION  MARRIAGE  AGE  PAY_0  PAY_2  PAY_3  PAY_4  \\\n",
       "0  1   20000.0    2    1          1         24   2      2     -1     -1       \n",
       "1  2   120000.0   2    1          0         26  -1      2      0      0       \n",
       "2  3   90000.0    2    1          0         34   0      0      0      0       \n",
       "3  4   50000.0    2    1          1         37   0      0      0      0       \n",
       "4  5   50000.0    1    1          1         57  -1      0     -1      0       \n",
       "\n",
       "   PAY_5  PAY_6  BILL_AMT1  BILL_AMT2  BILL_AMT3  BILL_AMT4  BILL_AMT5  \\\n",
       "0 -2     -2      3913.0     3102.0     689.0      0.0        0.0         \n",
       "1  0      2      2682.0     1725.0     2682.0     3272.0     3455.0      \n",
       "2  0      0      29239.0    14027.0    13559.0    14331.0    14948.0     \n",
       "3  0      0      46990.0    48233.0    49291.0    28314.0    28959.0     \n",
       "4  0      0      8617.0     5670.0     35835.0    20940.0    19146.0     \n",
       "\n",
       "   BILL_AMT6  PAY_AMT1  PAY_AMT2  PAY_AMT3  PAY_AMT4  PAY_AMT5  PAY_AMT6  \\\n",
       "0  0.0        0.0       689.0     0.0       0.0       0.0       0.0        \n",
       "1  3261.0     0.0       1000.0    1000.0    1000.0    0.0       2000.0     \n",
       "2  15549.0    1518.0    1500.0    1000.0    1000.0    1000.0    5000.0     \n",
       "3  29547.0    2000.0    2019.0    1200.0    1100.0    1069.0    1000.0     \n",
       "4  19131.0    2000.0    36681.0   10000.0   9000.0    689.0     679.0      \n",
       "\n",
       "   default.payment.next.month  \n",
       "0  1                           \n",
       "1  1                           \n",
       "2  0                           \n",
       "3  0                           \n",
       "4  0                           "
      ]
     },
     "execution_count": 12,
     "metadata": {},
     "output_type": "execute_result"
    },
    {
     "data": {
      "text/plain": [
       "0    16341\n",
       "1    13659\n",
       "Name: MARRIAGE, dtype: int64"
      ]
     },
     "execution_count": 12,
     "metadata": {},
     "output_type": "execute_result"
    }
   ],
   "source": [
    "df.iloc[df[df['MARRIAGE'] != 1].index,4]=0\n",
    "df.head()\n",
    "df['MARRIAGE'].value_counts()"
   ]
  },
  {
   "cell_type": "markdown",
   "metadata": {},
   "source": [
    "###### **SEX** column: We will drop sex column, because its our policy to not discriminate between genders.\n",
    "---"
   ]
  },
  {
   "cell_type": "code",
   "execution_count": 13,
   "metadata": {},
   "outputs": [
    {
     "data": {
      "text/plain": [
       "(30000, 24)"
      ]
     },
     "execution_count": 13,
     "metadata": {},
     "output_type": "execute_result"
    }
   ],
   "source": [
    "df.drop('SEX', axis=1, inplace=True)\n",
    "df.shape"
   ]
  },
  {
   "cell_type": "markdown",
   "metadata": {},
   "source": [
    "###### Pay_ Columns have numeric values.\n",
    "---"
   ]
  },
  {
   "cell_type": "code",
   "execution_count": 14,
   "metadata": {},
   "outputs": [
    {
     "data": {
      "text/plain": [
       " 0    14737\n",
       "-1    5686 \n",
       " 1    3688 \n",
       "-2    2759 \n",
       " 2    2667 \n",
       " 3    322  \n",
       " 4    76   \n",
       " 5    26   \n",
       " 8    19   \n",
       " 6    11   \n",
       " 7    9    \n",
       "Name: PAY_0, dtype: int64"
      ]
     },
     "execution_count": 14,
     "metadata": {},
     "output_type": "execute_result"
    },
    {
     "data": {
      "text/plain": [
       " 0    15730\n",
       "-1    6050 \n",
       " 2    3927 \n",
       "-2    3782 \n",
       " 3    326  \n",
       " 4    99   \n",
       " 1    28   \n",
       " 5    25   \n",
       " 7    20   \n",
       " 6    12   \n",
       " 8    1    \n",
       "Name: PAY_2, dtype: int64"
      ]
     },
     "execution_count": 14,
     "metadata": {},
     "output_type": "execute_result"
    },
    {
     "data": {
      "text/plain": [
       " 0    15764\n",
       "-1    5938 \n",
       "-2    4085 \n",
       " 2    3819 \n",
       " 3    240  \n",
       " 4    76   \n",
       " 7    27   \n",
       " 6    23   \n",
       " 5    21   \n",
       " 1    4    \n",
       " 8    3    \n",
       "Name: PAY_3, dtype: int64"
      ]
     },
     "execution_count": 14,
     "metadata": {},
     "output_type": "execute_result"
    },
    {
     "data": {
      "text/plain": [
       " 0    16455\n",
       "-1    5687 \n",
       "-2    4348 \n",
       " 2    3159 \n",
       " 3    180  \n",
       " 4    69   \n",
       " 7    58   \n",
       " 5    35   \n",
       " 6    5    \n",
       " 8    2    \n",
       " 1    2    \n",
       "Name: PAY_4, dtype: int64"
      ]
     },
     "execution_count": 14,
     "metadata": {},
     "output_type": "execute_result"
    },
    {
     "data": {
      "text/plain": [
       " 0    16947\n",
       "-1    5539 \n",
       "-2    4546 \n",
       " 2    2626 \n",
       " 3    178  \n",
       " 4    84   \n",
       " 7    58   \n",
       " 5    17   \n",
       " 6    4    \n",
       " 8    1    \n",
       "Name: PAY_5, dtype: int64"
      ]
     },
     "execution_count": 14,
     "metadata": {},
     "output_type": "execute_result"
    },
    {
     "data": {
      "text/plain": [
       " 0    16286\n",
       "-1    5740 \n",
       "-2    4895 \n",
       " 2    2766 \n",
       " 3    184  \n",
       " 4    49   \n",
       " 7    46   \n",
       " 6    19   \n",
       " 5    13   \n",
       " 8    2    \n",
       "Name: PAY_6, dtype: int64"
      ]
     },
     "execution_count": 14,
     "metadata": {},
     "output_type": "execute_result"
    }
   ],
   "source": [
    "df['PAY_0'].value_counts()\n",
    "df['PAY_2'].value_counts()\n",
    "df['PAY_3'].value_counts()\n",
    "df['PAY_4'].value_counts()\n",
    "df['PAY_5'].value_counts()\n",
    "df['PAY_6'].value_counts()"
   ]
  },
  {
   "cell_type": "markdown",
   "metadata": {},
   "source": [
    "- As we are interested in default or not answers, we can neglect the advace payment, i.e. negative values"
   ]
  },
  {
   "cell_type": "code",
   "execution_count": 15,
   "metadata": {},
   "outputs": [
    {
     "data": {
      "text/html": [
       "<div>\n",
       "<style scoped>\n",
       "    .dataframe tbody tr th:only-of-type {\n",
       "        vertical-align: middle;\n",
       "    }\n",
       "\n",
       "    .dataframe tbody tr th {\n",
       "        vertical-align: top;\n",
       "    }\n",
       "\n",
       "    .dataframe thead th {\n",
       "        text-align: right;\n",
       "    }\n",
       "</style>\n",
       "<table border=\"1\" class=\"dataframe\">\n",
       "  <thead>\n",
       "    <tr style=\"text-align: right;\">\n",
       "      <th></th>\n",
       "      <th>ID</th>\n",
       "      <th>LIMIT_BAL</th>\n",
       "      <th>EDUCATION</th>\n",
       "      <th>MARRIAGE</th>\n",
       "      <th>AGE</th>\n",
       "      <th>PAY_0</th>\n",
       "      <th>PAY_2</th>\n",
       "      <th>PAY_3</th>\n",
       "      <th>PAY_4</th>\n",
       "      <th>PAY_5</th>\n",
       "      <th>PAY_6</th>\n",
       "      <th>BILL_AMT1</th>\n",
       "      <th>BILL_AMT2</th>\n",
       "      <th>BILL_AMT3</th>\n",
       "      <th>BILL_AMT4</th>\n",
       "      <th>BILL_AMT5</th>\n",
       "      <th>BILL_AMT6</th>\n",
       "      <th>PAY_AMT1</th>\n",
       "      <th>PAY_AMT2</th>\n",
       "      <th>PAY_AMT3</th>\n",
       "      <th>PAY_AMT4</th>\n",
       "      <th>PAY_AMT5</th>\n",
       "      <th>PAY_AMT6</th>\n",
       "      <th>default.payment.next.month</th>\n",
       "    </tr>\n",
       "  </thead>\n",
       "  <tbody>\n",
       "    <tr>\n",
       "      <th>0</th>\n",
       "      <td>1</td>\n",
       "      <td>20000.0</td>\n",
       "      <td>1</td>\n",
       "      <td>1</td>\n",
       "      <td>24</td>\n",
       "      <td>2</td>\n",
       "      <td>2</td>\n",
       "      <td>0</td>\n",
       "      <td>0</td>\n",
       "      <td>0</td>\n",
       "      <td>0</td>\n",
       "      <td>3913.0</td>\n",
       "      <td>3102.0</td>\n",
       "      <td>689.0</td>\n",
       "      <td>0.0</td>\n",
       "      <td>0.0</td>\n",
       "      <td>0.0</td>\n",
       "      <td>0.0</td>\n",
       "      <td>689.0</td>\n",
       "      <td>0.0</td>\n",
       "      <td>0.0</td>\n",
       "      <td>0.0</td>\n",
       "      <td>0.0</td>\n",
       "      <td>1</td>\n",
       "    </tr>\n",
       "    <tr>\n",
       "      <th>1</th>\n",
       "      <td>2</td>\n",
       "      <td>120000.0</td>\n",
       "      <td>1</td>\n",
       "      <td>0</td>\n",
       "      <td>26</td>\n",
       "      <td>0</td>\n",
       "      <td>2</td>\n",
       "      <td>0</td>\n",
       "      <td>0</td>\n",
       "      <td>0</td>\n",
       "      <td>2</td>\n",
       "      <td>2682.0</td>\n",
       "      <td>1725.0</td>\n",
       "      <td>2682.0</td>\n",
       "      <td>3272.0</td>\n",
       "      <td>3455.0</td>\n",
       "      <td>3261.0</td>\n",
       "      <td>0.0</td>\n",
       "      <td>1000.0</td>\n",
       "      <td>1000.0</td>\n",
       "      <td>1000.0</td>\n",
       "      <td>0.0</td>\n",
       "      <td>2000.0</td>\n",
       "      <td>1</td>\n",
       "    </tr>\n",
       "    <tr>\n",
       "      <th>2</th>\n",
       "      <td>3</td>\n",
       "      <td>90000.0</td>\n",
       "      <td>1</td>\n",
       "      <td>0</td>\n",
       "      <td>34</td>\n",
       "      <td>0</td>\n",
       "      <td>0</td>\n",
       "      <td>0</td>\n",
       "      <td>0</td>\n",
       "      <td>0</td>\n",
       "      <td>0</td>\n",
       "      <td>29239.0</td>\n",
       "      <td>14027.0</td>\n",
       "      <td>13559.0</td>\n",
       "      <td>14331.0</td>\n",
       "      <td>14948.0</td>\n",
       "      <td>15549.0</td>\n",
       "      <td>1518.0</td>\n",
       "      <td>1500.0</td>\n",
       "      <td>1000.0</td>\n",
       "      <td>1000.0</td>\n",
       "      <td>1000.0</td>\n",
       "      <td>5000.0</td>\n",
       "      <td>0</td>\n",
       "    </tr>\n",
       "    <tr>\n",
       "      <th>3</th>\n",
       "      <td>4</td>\n",
       "      <td>50000.0</td>\n",
       "      <td>1</td>\n",
       "      <td>1</td>\n",
       "      <td>37</td>\n",
       "      <td>0</td>\n",
       "      <td>0</td>\n",
       "      <td>0</td>\n",
       "      <td>0</td>\n",
       "      <td>0</td>\n",
       "      <td>0</td>\n",
       "      <td>46990.0</td>\n",
       "      <td>48233.0</td>\n",
       "      <td>49291.0</td>\n",
       "      <td>28314.0</td>\n",
       "      <td>28959.0</td>\n",
       "      <td>29547.0</td>\n",
       "      <td>2000.0</td>\n",
       "      <td>2019.0</td>\n",
       "      <td>1200.0</td>\n",
       "      <td>1100.0</td>\n",
       "      <td>1069.0</td>\n",
       "      <td>1000.0</td>\n",
       "      <td>0</td>\n",
       "    </tr>\n",
       "    <tr>\n",
       "      <th>4</th>\n",
       "      <td>5</td>\n",
       "      <td>50000.0</td>\n",
       "      <td>1</td>\n",
       "      <td>1</td>\n",
       "      <td>57</td>\n",
       "      <td>0</td>\n",
       "      <td>0</td>\n",
       "      <td>0</td>\n",
       "      <td>0</td>\n",
       "      <td>0</td>\n",
       "      <td>0</td>\n",
       "      <td>8617.0</td>\n",
       "      <td>5670.0</td>\n",
       "      <td>35835.0</td>\n",
       "      <td>20940.0</td>\n",
       "      <td>19146.0</td>\n",
       "      <td>19131.0</td>\n",
       "      <td>2000.0</td>\n",
       "      <td>36681.0</td>\n",
       "      <td>10000.0</td>\n",
       "      <td>9000.0</td>\n",
       "      <td>689.0</td>\n",
       "      <td>679.0</td>\n",
       "      <td>0</td>\n",
       "    </tr>\n",
       "  </tbody>\n",
       "</table>\n",
       "</div>"
      ],
      "text/plain": [
       "   ID  LIMIT_BAL  EDUCATION  MARRIAGE  AGE  PAY_0  PAY_2  PAY_3  PAY_4  PAY_5  \\\n",
       "0  1   20000.0    1          1         24   2      2      0      0      0       \n",
       "1  2   120000.0   1          0         26   0      2      0      0      0       \n",
       "2  3   90000.0    1          0         34   0      0      0      0      0       \n",
       "3  4   50000.0    1          1         37   0      0      0      0      0       \n",
       "4  5   50000.0    1          1         57   0      0      0      0      0       \n",
       "\n",
       "   PAY_6  BILL_AMT1  BILL_AMT2  BILL_AMT3  BILL_AMT4  BILL_AMT5  BILL_AMT6  \\\n",
       "0  0      3913.0     3102.0     689.0      0.0        0.0        0.0         \n",
       "1  2      2682.0     1725.0     2682.0     3272.0     3455.0     3261.0      \n",
       "2  0      29239.0    14027.0    13559.0    14331.0    14948.0    15549.0     \n",
       "3  0      46990.0    48233.0    49291.0    28314.0    28959.0    29547.0     \n",
       "4  0      8617.0     5670.0     35835.0    20940.0    19146.0    19131.0     \n",
       "\n",
       "   PAY_AMT1  PAY_AMT2  PAY_AMT3  PAY_AMT4  PAY_AMT5  PAY_AMT6  \\\n",
       "0  0.0       689.0     0.0       0.0       0.0       0.0        \n",
       "1  0.0       1000.0    1000.0    1000.0    0.0       2000.0     \n",
       "2  1518.0    1500.0    1000.0    1000.0    1000.0    5000.0     \n",
       "3  2000.0    2019.0    1200.0    1100.0    1069.0    1000.0     \n",
       "4  2000.0    36681.0   10000.0   9000.0    689.0     679.0      \n",
       "\n",
       "   default.payment.next.month  \n",
       "0  1                           \n",
       "1  1                           \n",
       "2  0                           \n",
       "3  0                           \n",
       "4  0                           "
      ]
     },
     "execution_count": 15,
     "metadata": {},
     "output_type": "execute_result"
    }
   ],
   "source": [
    "df.iloc[df[df['PAY_0'] < 0].index,5]=0\n",
    "df.iloc[df[df['PAY_2'] <= 0].index,6]=0\n",
    "df.iloc[df[df['PAY_3'] <= 0].index,7]=0\n",
    "df.iloc[df[df['PAY_4'] <= 0].index,8]=0\n",
    "df.iloc[df[df['PAY_5'] <= 0].index,9]=0\n",
    "df.iloc[df[df['PAY_6'] <= 0].index,10]=0\n",
    "df.head()"
   ]
  },
  {
   "cell_type": "markdown",
   "metadata": {},
   "source": [
    "###### Now that we have edited the available data as needed to solve the data science problem, Lets engineer some extra features:"
   ]
  },
  {
   "cell_type": "code",
   "execution_count": 16,
   "metadata": {},
   "outputs": [],
   "source": [
    "# Avergae Bill Amount in last 3 months\n",
    "col = df.loc[:,\"BILL_AMT1\":\"BILL_AMT3\"]\n",
    "df['AVG_BAL_3'] = col.mean(axis=1)"
   ]
  },
  {
   "cell_type": "code",
   "execution_count": 17,
   "metadata": {},
   "outputs": [],
   "source": [
    "# Avergae Bill Amount in last 6 months\n",
    "col1 = df.loc[:,\"BILL_AMT1\":\"BILL_AMT6\"]\n",
    "df['AVG_BAL_6'] = col1.mean(axis=1)"
   ]
  },
  {
   "cell_type": "code",
   "execution_count": 18,
   "metadata": {},
   "outputs": [],
   "source": [
    "# Avergae Pay Amount in last 3 months\n",
    "col2 = df.loc[:,\"PAY_AMT1\":\"PAY_AMT3\"]\n",
    "df['AVG_PAY_3'] = col2.mean(axis=1)"
   ]
  },
  {
   "cell_type": "code",
   "execution_count": 19,
   "metadata": {},
   "outputs": [],
   "source": [
    "# Avergae Pay Amount in last 6 months\n",
    "col3 = df.loc[:,\"PAY_AMT1\":\"PAY_AMT6\"]\n",
    "df['AVG_PAY_6'] = col3.mean(axis=1)"
   ]
  },
  {
   "cell_type": "code",
   "execution_count": 20,
   "metadata": {},
   "outputs": [],
   "source": [
    "# Calculating Utilizations\n",
    "df['UTL'] = (df['BILL_AMT1']/df['LIMIT_BAL'])*100\n",
    "df['AVG_UTL_3'] = df['AVG_BAL_3']/df['LIMIT_BAL']*100\n",
    "df['AVG_UTL_6'] = df['AVG_BAL_6']/df['LIMIT_BAL']*100\n"
   ]
  },
  {
   "cell_type": "code",
   "execution_count": 21,
   "metadata": {},
   "outputs": [
    {
     "data": {
      "text/plain": [
       "Index(['ID', 'LIMIT_BAL', 'EDUCATION', 'MARRIAGE', 'AGE', 'PAY_0', 'PAY_2',\n",
       "       'PAY_3', 'PAY_4', 'PAY_5', 'PAY_6', 'BILL_AMT1', 'BILL_AMT2',\n",
       "       'BILL_AMT3', 'BILL_AMT4', 'BILL_AMT5', 'BILL_AMT6', 'PAY_AMT1',\n",
       "       'PAY_AMT2', 'PAY_AMT3', 'PAY_AMT4', 'PAY_AMT5', 'PAY_AMT6',\n",
       "       'default.payment.next.month', 'AVG_BAL_3', 'AVG_BAL_6', 'AVG_PAY_3',\n",
       "       'AVG_PAY_6', 'UTL', 'AVG_UTL_3', 'AVG_UTL_6'],\n",
       "      dtype='object')"
      ]
     },
     "execution_count": 21,
     "metadata": {},
     "output_type": "execute_result"
    }
   ],
   "source": [
    "df.columns"
   ]
  },
  {
   "cell_type": "code",
   "execution_count": 22,
   "metadata": {},
   "outputs": [
    {
     "data": {
      "text/html": [
       "<div>\n",
       "<style scoped>\n",
       "    .dataframe tbody tr th:only-of-type {\n",
       "        vertical-align: middle;\n",
       "    }\n",
       "\n",
       "    .dataframe tbody tr th {\n",
       "        vertical-align: top;\n",
       "    }\n",
       "\n",
       "    .dataframe thead th {\n",
       "        text-align: right;\n",
       "    }\n",
       "</style>\n",
       "<table border=\"1\" class=\"dataframe\">\n",
       "  <thead>\n",
       "    <tr style=\"text-align: right;\">\n",
       "      <th></th>\n",
       "      <th>ID</th>\n",
       "      <th>LIMIT_BAL</th>\n",
       "      <th>EDUCATION</th>\n",
       "      <th>MARRIAGE</th>\n",
       "      <th>AGE</th>\n",
       "      <th>PAY_0</th>\n",
       "      <th>PAY_2</th>\n",
       "      <th>PAY_3</th>\n",
       "      <th>PAY_4</th>\n",
       "      <th>PAY_5</th>\n",
       "      <th>PAY_6</th>\n",
       "      <th>BILL_AMT1</th>\n",
       "      <th>BILL_AMT2</th>\n",
       "      <th>BILL_AMT3</th>\n",
       "      <th>BILL_AMT4</th>\n",
       "      <th>BILL_AMT5</th>\n",
       "      <th>BILL_AMT6</th>\n",
       "      <th>PAY_AMT1</th>\n",
       "      <th>PAY_AMT2</th>\n",
       "      <th>PAY_AMT3</th>\n",
       "      <th>PAY_AMT4</th>\n",
       "      <th>PAY_AMT5</th>\n",
       "      <th>PAY_AMT6</th>\n",
       "      <th>default.payment.next.month</th>\n",
       "      <th>AVG_BAL_3</th>\n",
       "      <th>AVG_BAL_6</th>\n",
       "      <th>AVG_PAY_3</th>\n",
       "      <th>AVG_PAY_6</th>\n",
       "      <th>UTL</th>\n",
       "      <th>AVG_UTL_3</th>\n",
       "      <th>AVG_UTL_6</th>\n",
       "    </tr>\n",
       "  </thead>\n",
       "  <tbody>\n",
       "    <tr>\n",
       "      <th>0</th>\n",
       "      <td>1</td>\n",
       "      <td>20000.0</td>\n",
       "      <td>1</td>\n",
       "      <td>1</td>\n",
       "      <td>24</td>\n",
       "      <td>2</td>\n",
       "      <td>2</td>\n",
       "      <td>0</td>\n",
       "      <td>0</td>\n",
       "      <td>0</td>\n",
       "      <td>0</td>\n",
       "      <td>3913.0</td>\n",
       "      <td>3102.0</td>\n",
       "      <td>689.0</td>\n",
       "      <td>0.0</td>\n",
       "      <td>0.0</td>\n",
       "      <td>0.0</td>\n",
       "      <td>0.0</td>\n",
       "      <td>689.0</td>\n",
       "      <td>0.0</td>\n",
       "      <td>0.0</td>\n",
       "      <td>0.0</td>\n",
       "      <td>0.0</td>\n",
       "      <td>1</td>\n",
       "      <td>2568.000000</td>\n",
       "      <td>1284.000000</td>\n",
       "      <td>229.666667</td>\n",
       "      <td>114.833333</td>\n",
       "      <td>19.565000</td>\n",
       "      <td>12.840000</td>\n",
       "      <td>6.420000</td>\n",
       "    </tr>\n",
       "    <tr>\n",
       "      <th>1</th>\n",
       "      <td>2</td>\n",
       "      <td>120000.0</td>\n",
       "      <td>1</td>\n",
       "      <td>0</td>\n",
       "      <td>26</td>\n",
       "      <td>0</td>\n",
       "      <td>2</td>\n",
       "      <td>0</td>\n",
       "      <td>0</td>\n",
       "      <td>0</td>\n",
       "      <td>2</td>\n",
       "      <td>2682.0</td>\n",
       "      <td>1725.0</td>\n",
       "      <td>2682.0</td>\n",
       "      <td>3272.0</td>\n",
       "      <td>3455.0</td>\n",
       "      <td>3261.0</td>\n",
       "      <td>0.0</td>\n",
       "      <td>1000.0</td>\n",
       "      <td>1000.0</td>\n",
       "      <td>1000.0</td>\n",
       "      <td>0.0</td>\n",
       "      <td>2000.0</td>\n",
       "      <td>1</td>\n",
       "      <td>2363.000000</td>\n",
       "      <td>2846.166667</td>\n",
       "      <td>666.666667</td>\n",
       "      <td>833.333333</td>\n",
       "      <td>2.235000</td>\n",
       "      <td>1.969167</td>\n",
       "      <td>2.371806</td>\n",
       "    </tr>\n",
       "    <tr>\n",
       "      <th>2</th>\n",
       "      <td>3</td>\n",
       "      <td>90000.0</td>\n",
       "      <td>1</td>\n",
       "      <td>0</td>\n",
       "      <td>34</td>\n",
       "      <td>0</td>\n",
       "      <td>0</td>\n",
       "      <td>0</td>\n",
       "      <td>0</td>\n",
       "      <td>0</td>\n",
       "      <td>0</td>\n",
       "      <td>29239.0</td>\n",
       "      <td>14027.0</td>\n",
       "      <td>13559.0</td>\n",
       "      <td>14331.0</td>\n",
       "      <td>14948.0</td>\n",
       "      <td>15549.0</td>\n",
       "      <td>1518.0</td>\n",
       "      <td>1500.0</td>\n",
       "      <td>1000.0</td>\n",
       "      <td>1000.0</td>\n",
       "      <td>1000.0</td>\n",
       "      <td>5000.0</td>\n",
       "      <td>0</td>\n",
       "      <td>18941.666667</td>\n",
       "      <td>16942.166667</td>\n",
       "      <td>1339.333333</td>\n",
       "      <td>1836.333333</td>\n",
       "      <td>32.487778</td>\n",
       "      <td>21.046296</td>\n",
       "      <td>18.824630</td>\n",
       "    </tr>\n",
       "    <tr>\n",
       "      <th>3</th>\n",
       "      <td>4</td>\n",
       "      <td>50000.0</td>\n",
       "      <td>1</td>\n",
       "      <td>1</td>\n",
       "      <td>37</td>\n",
       "      <td>0</td>\n",
       "      <td>0</td>\n",
       "      <td>0</td>\n",
       "      <td>0</td>\n",
       "      <td>0</td>\n",
       "      <td>0</td>\n",
       "      <td>46990.0</td>\n",
       "      <td>48233.0</td>\n",
       "      <td>49291.0</td>\n",
       "      <td>28314.0</td>\n",
       "      <td>28959.0</td>\n",
       "      <td>29547.0</td>\n",
       "      <td>2000.0</td>\n",
       "      <td>2019.0</td>\n",
       "      <td>1200.0</td>\n",
       "      <td>1100.0</td>\n",
       "      <td>1069.0</td>\n",
       "      <td>1000.0</td>\n",
       "      <td>0</td>\n",
       "      <td>48171.333333</td>\n",
       "      <td>38555.666667</td>\n",
       "      <td>1739.666667</td>\n",
       "      <td>1398.000000</td>\n",
       "      <td>93.980000</td>\n",
       "      <td>96.342667</td>\n",
       "      <td>77.111333</td>\n",
       "    </tr>\n",
       "    <tr>\n",
       "      <th>4</th>\n",
       "      <td>5</td>\n",
       "      <td>50000.0</td>\n",
       "      <td>1</td>\n",
       "      <td>1</td>\n",
       "      <td>57</td>\n",
       "      <td>0</td>\n",
       "      <td>0</td>\n",
       "      <td>0</td>\n",
       "      <td>0</td>\n",
       "      <td>0</td>\n",
       "      <td>0</td>\n",
       "      <td>8617.0</td>\n",
       "      <td>5670.0</td>\n",
       "      <td>35835.0</td>\n",
       "      <td>20940.0</td>\n",
       "      <td>19146.0</td>\n",
       "      <td>19131.0</td>\n",
       "      <td>2000.0</td>\n",
       "      <td>36681.0</td>\n",
       "      <td>10000.0</td>\n",
       "      <td>9000.0</td>\n",
       "      <td>689.0</td>\n",
       "      <td>679.0</td>\n",
       "      <td>0</td>\n",
       "      <td>16707.333333</td>\n",
       "      <td>18223.166667</td>\n",
       "      <td>16227.000000</td>\n",
       "      <td>9841.500000</td>\n",
       "      <td>17.234000</td>\n",
       "      <td>33.414667</td>\n",
       "      <td>36.446333</td>\n",
       "    </tr>\n",
       "  </tbody>\n",
       "</table>\n",
       "</div>"
      ],
      "text/plain": [
       "   ID  LIMIT_BAL  EDUCATION  MARRIAGE  AGE  PAY_0  PAY_2  PAY_3  PAY_4  PAY_5  \\\n",
       "0  1   20000.0    1          1         24   2      2      0      0      0       \n",
       "1  2   120000.0   1          0         26   0      2      0      0      0       \n",
       "2  3   90000.0    1          0         34   0      0      0      0      0       \n",
       "3  4   50000.0    1          1         37   0      0      0      0      0       \n",
       "4  5   50000.0    1          1         57   0      0      0      0      0       \n",
       "\n",
       "   PAY_6  BILL_AMT1  BILL_AMT2  BILL_AMT3  BILL_AMT4  BILL_AMT5  BILL_AMT6  \\\n",
       "0  0      3913.0     3102.0     689.0      0.0        0.0        0.0         \n",
       "1  2      2682.0     1725.0     2682.0     3272.0     3455.0     3261.0      \n",
       "2  0      29239.0    14027.0    13559.0    14331.0    14948.0    15549.0     \n",
       "3  0      46990.0    48233.0    49291.0    28314.0    28959.0    29547.0     \n",
       "4  0      8617.0     5670.0     35835.0    20940.0    19146.0    19131.0     \n",
       "\n",
       "   PAY_AMT1  PAY_AMT2  PAY_AMT3  PAY_AMT4  PAY_AMT5  PAY_AMT6  \\\n",
       "0  0.0       689.0     0.0       0.0       0.0       0.0        \n",
       "1  0.0       1000.0    1000.0    1000.0    0.0       2000.0     \n",
       "2  1518.0    1500.0    1000.0    1000.0    1000.0    5000.0     \n",
       "3  2000.0    2019.0    1200.0    1100.0    1069.0    1000.0     \n",
       "4  2000.0    36681.0   10000.0   9000.0    689.0     679.0      \n",
       "\n",
       "   default.payment.next.month     AVG_BAL_3     AVG_BAL_6     AVG_PAY_3  \\\n",
       "0  1                           2568.000000   1284.000000   229.666667     \n",
       "1  1                           2363.000000   2846.166667   666.666667     \n",
       "2  0                           18941.666667  16942.166667  1339.333333    \n",
       "3  0                           48171.333333  38555.666667  1739.666667    \n",
       "4  0                           16707.333333  18223.166667  16227.000000   \n",
       "\n",
       "     AVG_PAY_6        UTL  AVG_UTL_3  AVG_UTL_6  \n",
       "0  114.833333   19.565000  12.840000  6.420000   \n",
       "1  833.333333   2.235000   1.969167   2.371806   \n",
       "2  1836.333333  32.487778  21.046296  18.824630  \n",
       "3  1398.000000  93.980000  96.342667  77.111333  \n",
       "4  9841.500000  17.234000  33.414667  36.446333  "
      ]
     },
     "execution_count": 22,
     "metadata": {},
     "output_type": "execute_result"
    }
   ],
   "source": [
    "df.head()"
   ]
  },
  {
   "cell_type": "code",
   "execution_count": 23,
   "metadata": {},
   "outputs": [
    {
     "data": {
      "text/plain": [
       "(30000, 31)"
      ]
     },
     "execution_count": 23,
     "metadata": {},
     "output_type": "execute_result"
    }
   ],
   "source": [
    "df.shape"
   ]
  },
  {
   "cell_type": "markdown",
   "metadata": {},
   "source": [
    "### <font color = green>6.\tExploration of Data"
   ]
  },
  {
   "cell_type": "code",
   "execution_count": 24,
   "metadata": {
    "scrolled": true
   },
   "outputs": [
    {
     "data": {
      "text/plain": [
       "<matplotlib.axes._subplots.AxesSubplot at 0x24eac265550>"
      ]
     },
     "execution_count": 24,
     "metadata": {},
     "output_type": "execute_result"
    },
    {
     "data": {
      "image/png": "[encoded data removed]",
      "text/plain": [
       "<Figure size 360x360 with 1 Axes>"
      ]
     },
     "metadata": {},
     "output_type": "display_data"
    }
   ],
   "source": [
    "# Plotting our dependent variable default.payment.next.month column\n",
    "\n",
    "df['default.payment.next.month'].value_counts().plot(kind='pie', labels=['Non-Defaulters', 'Defaulters'],\n",
    "                                                     explode = (0.05, 0.1), autopct='%3.1f%%', shadow=True, startangle=170, \n",
    "                                                     legend=True, figsize=(5,5), fontsize=13)"
   ]
  },
  {
   "cell_type": "code",
   "execution_count": 25,
   "metadata": {},
   "outputs": [
    {
     "data": {
      "text/plain": [
       "<Figure size 720x360 with 0 Axes>"
      ]
     },
     "execution_count": 25,
     "metadata": {},
     "output_type": "execute_result"
    },
    {
     "data": {
      "text/plain": [
       "<matplotlib.axes._subplots.AxesSubplot at 0x24eac2652b0>"
      ]
     },
     "execution_count": 25,
     "metadata": {},
     "output_type": "execute_result"
    },
    {
     "data": {
      "text/plain": [
       "Text(0.5, 1.0, 'default.payment.next.month vs LIMIT_BAL')"
      ]
     },
     "execution_count": 25,
     "metadata": {},
     "output_type": "execute_result"
    },
    {
     "data": {
      "image/png": "[encoded data removed]",
      "text/plain": [
       "<Figure size 720x360 with 1 Axes>"
      ]
     },
     "metadata": {
      "needs_background": "light"
     },
     "output_type": "display_data"
    }
   ],
   "source": [
    "# Plotting a group boxplot between default.payment.next.month and LIMIT_BAL\n",
    "\n",
    "plt.figure(figsize=(10,5))\n",
    "sns.boxplot(data=df, x='LIMIT_BAL', y='default.payment.next.month', orient='h')\n",
    "plt.title('default.payment.next.month vs LIMIT_BAL')"
   ]
  },
  {
   "cell_type": "code",
   "execution_count": 26,
   "metadata": {},
   "outputs": [
    {
     "data": {
      "text/plain": [
       "<matplotlib.axes._subplots.AxesSubplot at 0x24eac39dc18>"
      ]
     },
     "execution_count": 26,
     "metadata": {},
     "output_type": "execute_result"
    },
    {
     "data": {
      "text/plain": [
       "<matplotlib.axes._subplots.AxesSubplot at 0x24eac3b6278>"
      ]
     },
     "execution_count": 26,
     "metadata": {},
     "output_type": "execute_result"
    },
    {
     "data": {
      "text/plain": [
       "<matplotlib.axes._subplots.AxesSubplot at 0x24eac3ddba8>"
      ]
     },
     "execution_count": 26,
     "metadata": {},
     "output_type": "execute_result"
    },
    {
     "data": {
      "text/plain": [
       "<matplotlib.axes._subplots.AxesSubplot at 0x24eac409550>"
      ]
     },
     "execution_count": 26,
     "metadata": {},
     "output_type": "execute_result"
    },
    {
     "data": {
      "text/plain": [
       "<matplotlib.axes._subplots.AxesSubplot at 0x24eac42de80>"
      ]
     },
     "execution_count": 26,
     "metadata": {},
     "output_type": "execute_result"
    },
    {
     "data": {
      "text/plain": [
       "<matplotlib.axes._subplots.AxesSubplot at 0x24eac45e828>"
      ]
     },
     "execution_count": 26,
     "metadata": {},
     "output_type": "execute_result"
    },
    {
     "data": {
      "image/png": "[encoded data removed]",
      "text/plain": [
       "<Figure size 1008x1728 with 6 Axes>"
      ]
     },
     "metadata": {
      "needs_background": "light"
     },
     "output_type": "display_data"
    }
   ],
   "source": [
    "# Plotting group boxplots between default.payment.next.month and PAY_AMT1, PAY_AMT2, PAY_AMT3, PAY_AMT4, PAY_AMT5, PAY_AMT6\n",
    "\n",
    "f, axes = plt.subplots(6, 1, figsize=(14, 24))\n",
    "\n",
    "sns.boxplot(data=df[df['PAY_AMT1'] < 15000], x='PAY_AMT1', y='default.payment.next.month', orient='h', ax=axes[0])\n",
    "sns.boxplot(data=df[df['PAY_AMT2'] < 15000], x='PAY_AMT2', y='default.payment.next.month', orient='h', ax=axes[1])\n",
    "sns.boxplot(data=df[df['PAY_AMT3'] < 15000], x='PAY_AMT3', y='default.payment.next.month', orient='h', ax=axes[2])\n",
    "sns.boxplot(data=df[df['PAY_AMT4'] < 15000], x='PAY_AMT4', y='default.payment.next.month', orient='h', ax=axes[3])\n",
    "sns.boxplot(data=df[df['PAY_AMT5'] < 15000], x='PAY_AMT5', y='default.payment.next.month', orient='h', ax=axes[4])\n",
    "sns.boxplot(data=df[df['PAY_AMT6'] < 15000], x='PAY_AMT6', y='default.payment.next.month', orient='h', ax=axes[5])"
   ]
  },
  {
   "cell_type": "markdown",
   "metadata": {},
   "source": [
    "### <font color = green>7.\tFeature Selection on bases of Data and Business principles."
   ]
  },
  {
   "cell_type": "code",
   "execution_count": 27,
   "metadata": {},
   "outputs": [
    {
     "data": {
      "text/plain": [
       "<Figure size 1440x1080 with 0 Axes>"
      ]
     },
     "execution_count": 27,
     "metadata": {},
     "output_type": "execute_result"
    },
    {
     "data": {
      "text/plain": [
       "<matplotlib.axes._subplots.AxesSubplot at 0x24eabcecf60>"
      ]
     },
     "execution_count": 27,
     "metadata": {},
     "output_type": "execute_result"
    },
    {
     "data": {
      "image/png": "[encoded data removed]",
      "text/plain": [
       "<Figure size 1440x1080 with 2 Axes>"
      ]
     },
     "metadata": {
      "needs_background": "light"
     },
     "output_type": "display_data"
    }
   ],
   "source": [
    "# Plotting the correlation matrix\n",
    "# Rounding the correlation values to 2 decimal places, so that they appear clearly on the heatmap.\n",
    "\n",
    "corr_mat = df.corr().round(2)\n",
    "plt.figure(figsize=(20,15))\n",
    "sns.heatmap(corr_mat, annot=True, cmap='viridis')"
   ]
  },
  {
   "cell_type": "markdown",
   "metadata": {},
   "source": [
    "**Observations from Correlation Matrix** <br>\n",
    "- The **diagonal** of above matrix shows the **auto-correlation** of variable. It is always equal to 1. \n",
    "\n",
    "\n",
    "- **Correlations** can vary from **-1 to +1**. Closer to **+1 means strong positive correlation** and close **-1 means strong negative correlation**. Closer to **0 means not very strongly correlated**. Variables with strong correlations are mostly probable candidates for model builing.\n",
    "\n",
    "\n",
    "- There are some **negative correlations** between different features because of the fact that they are **dummy variables** of on **old feature**.\n",
    "\n",
    "  - These features can't be removed from the dataset because they convey important information about the **old feature**.\n",
    "\n",
    "\n",
    "- There are also some **strong positive correlations** between different features because of the fact that they belong to a similar category ie. **Bill Amount**.\n",
    "\n",
    "  - These features will be **removed** from the dataset.\n",
    "  \n",
    "  - We will be removing **BILL_AMT2, BILL_AMT3, BILL_AMT4, BILL_AMT5, BILL_AMT6** from the data.\n",
    "  \n",
    "\n",
    "- We will also be removing all the original features from which we have created dummies or other new features."
   ]
  },
  {
   "cell_type": "markdown",
   "metadata": {},
   "source": []
  },
  {
   "cell_type": "markdown",
   "metadata": {
    "colab_type": "text",
    "id": "IW1Q_tyDKNWp"
   },
   "source": [
    "#### Data train/test split\n",
    "\n",
    "- Now that the entire **data** is of **numeric datatype**, lets begin our modelling process.\n",
    "\n",
    "\n",
    "- Firstly, **splitting** the complete **dataset** into **training** and **testing** datasets."
   ]
  },
  {
   "cell_type": "code",
   "execution_count": 28,
   "metadata": {
    "colab": {},
    "colab_type": "code",
    "id": "vGBaCs2lKNWp"
   },
   "outputs": [],
   "source": [
    "# 80% of the data will be in the train set and 20% in the test set, as specified by test_size=0.2\n",
    "\n",
    "df_train, df_test = train_test_split(df, test_size=0.2, random_state=42)"
   ]
  },
  {
   "cell_type": "code",
   "execution_count": 29,
   "metadata": {
    "colab": {},
    "colab_type": "code",
    "id": "-NyYJypEKNWr"
   },
   "outputs": [],
   "source": [
    "# Separating the dependent and independent variables.\n",
    "# Also performing feature selection i.e. keeping only the useful features and removing the redundant features.\n",
    "\n",
    "x_train = df_train.drop(['ID', 'BILL_AMT2', 'BILL_AMT3', 'BILL_AMT4', 'BILL_AMT5','BILL_AMT6', 'UTL', 'AVG_UTL_6'], 1)\n",
    "y_train = df_train['default.payment.next.month']\n",
    "\n",
    "x_test = df_test.drop(['ID', 'BILL_AMT2', 'BILL_AMT3', 'BILL_AMT4', 'BILL_AMT5','BILL_AMT6', 'UTL', 'AVG_UTL_6'], 1)\n",
    "y_test = df_test['default.payment.next.month']"
   ]
  },
  {
   "cell_type": "code",
   "execution_count": 30,
   "metadata": {
    "colab": {},
    "colab_type": "code",
    "id": "3RTCe1p7KNWs",
    "outputId": "bd4a3a9d-5131-4ec6-b29e-605e6e0a5554"
   },
   "outputs": [
    {
     "name": "stdout",
     "output_type": "stream",
     "text": [
      "(24000, 23)\n",
      "(24000,)\n",
      "(6000, 23)\n",
      "(6000,)\n"
     ]
    }
   ],
   "source": [
    "# Checking the shapes of all the training and test sets for the dependent and independent features.\n",
    "\n",
    "print(x_train.shape)\n",
    "print(y_train.shape)\n",
    "print(x_test.shape)\n",
    "print(y_test.shape)"
   ]
  },
  {
   "cell_type": "markdown",
   "metadata": {
    "colab_type": "text",
    "id": "LNOhBaH_KNWu"
   },
   "source": [
    "---"
   ]
  },
  {
   "cell_type": "markdown",
   "metadata": {},
   "source": [
    "### <font color = green>8.\tCreating Point in Time Model PIT-PD (Using Logistic Regression)"
   ]
  },
  {
   "cell_type": "markdown",
   "metadata": {
    "colab_type": "text",
    "id": "dYk8bHaUKNWu"
   },
   "source": [
    "To apply any machine learning algorithm on your dataset, basically there are **3 steps**:\n",
    "\n",
    "1. **Load the algorithm**\n",
    "2. **Instantiate and Fit the model to the training dataset**\n",
    "3. **Prediction on the test set**\n",
    "\n",
    "\n",
    "The code block given below shows how these steps are carried out:<br/>\n",
    "\n",
    "``` from sklearn.linear_model import LogisticRegression\n",
    " logreg = LogisticRegression()\n",
    " logreg.fit(X_train, y_train)\n",
    "```"
   ]
  },
  {
   "cell_type": "code",
   "execution_count": 31,
   "metadata": {
    "colab": {},
    "colab_type": "code",
    "id": "9PsEXTgpKNWv"
   },
   "outputs": [],
   "source": [
    "# Building the Logistic Regression model.\n",
    "\n",
    "PIT_PD = LogisticRegression(random_state=42, n_jobs=-1)"
   ]
  },
  {
   "cell_type": "code",
   "execution_count": 32,
   "metadata": {},
   "outputs": [
    {
     "data": {
      "text/plain": [
       "LogisticRegression(C=1.0, class_weight=None, dual=False, fit_intercept=True,\n",
       "          intercept_scaling=1, max_iter=100, multi_class='warn', n_jobs=-1,\n",
       "          penalty='l2', random_state=42, solver='warn', tol=0.0001,\n",
       "          verbose=0, warm_start=False)"
      ]
     },
     "execution_count": 32,
     "metadata": {},
     "output_type": "execute_result"
    }
   ],
   "source": [
    "PIT_PD.fit(x_train, y_train)"
   ]
  },
  {
   "cell_type": "code",
   "execution_count": 33,
   "metadata": {
    "colab": {},
    "colab_type": "code",
    "id": "ai6K0Y4OKNWy",
    "outputId": "90c0c0b0-543e-4b51-a805-f30c8d65293d"
   },
   "outputs": [
    {
     "data": {
      "text/plain": [
       "array([0.6513, 0.6387, 0.6646, 0.6381, 0.6598, 0.6401, 0.6427, 0.6459,\n",
       "       0.6838, 0.6412])"
      ]
     },
     "execution_count": 33,
     "metadata": {},
     "output_type": "execute_result"
    }
   ],
   "source": [
    "# Performing K-fold cross-validation on our training data, setting K=10 for 10-fold cross-validation.\n",
    "# Setting the scoring='roc_auc' to get the ROC AUC value as the output.\n",
    "# Setting n_jobs=-1 will use all of the CPU cores to speed the cross-validation. \n",
    "\n",
    "scores = cross_val_score(PIT_PD, x_train, y_train, cv=10, scoring='roc_auc', n_jobs=-1)\n",
    "scores"
   ]
  },
  {
   "cell_type": "code",
   "execution_count": 34,
   "metadata": {
    "colab": {},
    "colab_type": "code",
    "id": "RiLhaezDKNW0",
    "outputId": "c4997d16-80c0-4866-96b5-30939345c20b"
   },
   "outputs": [
    {
     "name": "stdout",
     "output_type": "stream",
     "text": [
      "Mean of cross_validation scores:  0.650617167530896\n",
      "Standard Deviation of cross_validation scores:  0.01400869441475769\n"
     ]
    }
   ],
   "source": [
    "# Printing the mean and standard deviation values of the cross-validation scores.\n",
    "\n",
    "print('Mean of cross_validation scores: ', scores.mean())\n",
    "print('Standard Deviation of cross_validation scores: ', scores.std())"
   ]
  },
  {
   "cell_type": "markdown",
   "metadata": {
    "colab_type": "text",
    "id": "0a05Pg-CKNW4"
   },
   "source": [
    "---"
   ]
  },
  {
   "cell_type": "markdown",
   "metadata": {},
   "source": [
    "#### Calculating PIT/PD for train and test\n",
    "- Prob for train\n",
    "- prob1 for test"
   ]
  },
  {
   "cell_type": "code",
   "execution_count": 35,
   "metadata": {},
   "outputs": [
    {
     "data": {
      "text/plain": [
       "array([[0.6882, 0.3118],\n",
       "       [0.6812, 0.3188],\n",
       "       [0.7989, 0.2011],\n",
       "       ...,\n",
       "       [0.6018, 0.3982],\n",
       "       [0.7109, 0.2891],\n",
       "       [0.7541, 0.2459]])"
      ]
     },
     "execution_count": 35,
     "metadata": {},
     "output_type": "execute_result"
    }
   ],
   "source": [
    "prob = PIT_PD.predict_proba(x_train)\n",
    "prob"
   ]
  },
  {
   "cell_type": "code",
   "execution_count": 36,
   "metadata": {},
   "outputs": [
    {
     "data": {
      "text/plain": [
       "array([[0.614 , 0.386 ],\n",
       "       [0.7401, 0.2599],\n",
       "       [0.6689, 0.3311],\n",
       "       ...,\n",
       "       [0.6473, 0.3527],\n",
       "       [0.6165, 0.3835],\n",
       "       [0.9332, 0.0668]])"
      ]
     },
     "execution_count": 36,
     "metadata": {},
     "output_type": "execute_result"
    }
   ],
   "source": [
    "prob1 = PIT_PD.predict_proba(x_test)\n",
    "prob1"
   ]
  },
  {
   "cell_type": "markdown",
   "metadata": {},
   "source": [
    "#### Splitting the array and getting the PD value"
   ]
  },
  {
   "cell_type": "code",
   "execution_count": 37,
   "metadata": {},
   "outputs": [
    {
     "data": {
      "text/plain": [
       "array([0.3118, 0.3188, 0.2011, ..., 0.3982, 0.2891, 0.2459])"
      ]
     },
     "execution_count": 37,
     "metadata": {},
     "output_type": "execute_result"
    }
   ],
   "source": [
    "a = prob[:, 1]\n",
    "a"
   ]
  },
  {
   "cell_type": "code",
   "execution_count": 38,
   "metadata": {},
   "outputs": [
    {
     "data": {
      "text/plain": [
       "array([0.386 , 0.2599, 0.3311, ..., 0.3527, 0.3835, 0.0668])"
      ]
     },
     "execution_count": 38,
     "metadata": {},
     "output_type": "execute_result"
    }
   ],
   "source": [
    "b = prob1[:, 1]\n",
    "b"
   ]
  },
  {
   "cell_type": "markdown",
   "metadata": {},
   "source": [
    "#### Adding PD value as a column to both x_train and x_test value"
   ]
  },
  {
   "cell_type": "code",
   "execution_count": 39,
   "metadata": {
    "scrolled": true
   },
   "outputs": [
    {
     "data": {
      "text/html": [
       "<div>\n",
       "<style scoped>\n",
       "    .dataframe tbody tr th:only-of-type {\n",
       "        vertical-align: middle;\n",
       "    }\n",
       "\n",
       "    .dataframe tbody tr th {\n",
       "        vertical-align: top;\n",
       "    }\n",
       "\n",
       "    .dataframe thead th {\n",
       "        text-align: right;\n",
       "    }\n",
       "</style>\n",
       "<table border=\"1\" class=\"dataframe\">\n",
       "  <thead>\n",
       "    <tr style=\"text-align: right;\">\n",
       "      <th></th>\n",
       "      <th>LIMIT_BAL</th>\n",
       "      <th>EDUCATION</th>\n",
       "      <th>MARRIAGE</th>\n",
       "      <th>AGE</th>\n",
       "      <th>PAY_0</th>\n",
       "      <th>PAY_2</th>\n",
       "      <th>PAY_3</th>\n",
       "      <th>PAY_4</th>\n",
       "      <th>PAY_5</th>\n",
       "      <th>PAY_6</th>\n",
       "      <th>BILL_AMT1</th>\n",
       "      <th>PAY_AMT1</th>\n",
       "      <th>PAY_AMT2</th>\n",
       "      <th>PAY_AMT3</th>\n",
       "      <th>PAY_AMT4</th>\n",
       "      <th>PAY_AMT5</th>\n",
       "      <th>PAY_AMT6</th>\n",
       "      <th>default.payment.next.month</th>\n",
       "      <th>AVG_BAL_3</th>\n",
       "      <th>AVG_BAL_6</th>\n",
       "      <th>AVG_PAY_3</th>\n",
       "      <th>AVG_PAY_6</th>\n",
       "      <th>AVG_UTL_3</th>\n",
       "      <th>PIT-PD</th>\n",
       "    </tr>\n",
       "  </thead>\n",
       "  <tbody>\n",
       "    <tr>\n",
       "      <th>21753</th>\n",
       "      <td>80000.0</td>\n",
       "      <td>1</td>\n",
       "      <td>0</td>\n",
       "      <td>24</td>\n",
       "      <td>0</td>\n",
       "      <td>0</td>\n",
       "      <td>0</td>\n",
       "      <td>0</td>\n",
       "      <td>0</td>\n",
       "      <td>0</td>\n",
       "      <td>75125.0</td>\n",
       "      <td>3503.0</td>\n",
       "      <td>5001.0</td>\n",
       "      <td>2092.0</td>\n",
       "      <td>1218.0</td>\n",
       "      <td>1445.0</td>\n",
       "      <td>878.0</td>\n",
       "      <td>0</td>\n",
       "      <td>76933.000000</td>\n",
       "      <td>63938.333333</td>\n",
       "      <td>3532.000000</td>\n",
       "      <td>2356.166667</td>\n",
       "      <td>96.166250</td>\n",
       "      <td>0.311771</td>\n",
       "    </tr>\n",
       "    <tr>\n",
       "      <th>251</th>\n",
       "      <td>30000.0</td>\n",
       "      <td>1</td>\n",
       "      <td>0</td>\n",
       "      <td>28</td>\n",
       "      <td>0</td>\n",
       "      <td>0</td>\n",
       "      <td>0</td>\n",
       "      <td>0</td>\n",
       "      <td>0</td>\n",
       "      <td>0</td>\n",
       "      <td>29242.0</td>\n",
       "      <td>5006.0</td>\n",
       "      <td>1244.0</td>\n",
       "      <td>851.0</td>\n",
       "      <td>955.0</td>\n",
       "      <td>0.0</td>\n",
       "      <td>0.0</td>\n",
       "      <td>0</td>\n",
       "      <td>29301.333333</td>\n",
       "      <td>22526.666667</td>\n",
       "      <td>2367.000000</td>\n",
       "      <td>1342.666667</td>\n",
       "      <td>97.671111</td>\n",
       "      <td>0.318828</td>\n",
       "    </tr>\n",
       "    <tr>\n",
       "      <th>22941</th>\n",
       "      <td>180000.0</td>\n",
       "      <td>0</td>\n",
       "      <td>1</td>\n",
       "      <td>44</td>\n",
       "      <td>0</td>\n",
       "      <td>0</td>\n",
       "      <td>0</td>\n",
       "      <td>0</td>\n",
       "      <td>0</td>\n",
       "      <td>0</td>\n",
       "      <td>20916.0</td>\n",
       "      <td>0.0</td>\n",
       "      <td>850.0</td>\n",
       "      <td>0.0</td>\n",
       "      <td>6881.0</td>\n",
       "      <td>10340.0</td>\n",
       "      <td>182.0</td>\n",
       "      <td>0</td>\n",
       "      <td>7255.333333</td>\n",
       "      <td>6497.833333</td>\n",
       "      <td>283.333333</td>\n",
       "      <td>3042.166667</td>\n",
       "      <td>4.030741</td>\n",
       "      <td>0.201100</td>\n",
       "    </tr>\n",
       "    <tr>\n",
       "      <th>618</th>\n",
       "      <td>60000.0</td>\n",
       "      <td>1</td>\n",
       "      <td>0</td>\n",
       "      <td>25</td>\n",
       "      <td>0</td>\n",
       "      <td>0</td>\n",
       "      <td>0</td>\n",
       "      <td>0</td>\n",
       "      <td>0</td>\n",
       "      <td>0</td>\n",
       "      <td>58839.0</td>\n",
       "      <td>2018.0</td>\n",
       "      <td>1900.0</td>\n",
       "      <td>2000.0</td>\n",
       "      <td>1500.0</td>\n",
       "      <td>1900.0</td>\n",
       "      <td>2000.0</td>\n",
       "      <td>0</td>\n",
       "      <td>50202.333333</td>\n",
       "      <td>44834.166667</td>\n",
       "      <td>1972.666667</td>\n",
       "      <td>1886.333333</td>\n",
       "      <td>83.670556</td>\n",
       "      <td>0.319779</td>\n",
       "    </tr>\n",
       "    <tr>\n",
       "      <th>17090</th>\n",
       "      <td>130000.0</td>\n",
       "      <td>1</td>\n",
       "      <td>0</td>\n",
       "      <td>25</td>\n",
       "      <td>0</td>\n",
       "      <td>0</td>\n",
       "      <td>0</td>\n",
       "      <td>0</td>\n",
       "      <td>0</td>\n",
       "      <td>0</td>\n",
       "      <td>111587.0</td>\n",
       "      <td>4100.0</td>\n",
       "      <td>4200.0</td>\n",
       "      <td>5000.0</td>\n",
       "      <td>5000.0</td>\n",
       "      <td>5000.0</td>\n",
       "      <td>10700.0</td>\n",
       "      <td>0</td>\n",
       "      <td>112889.666667</td>\n",
       "      <td>116875.000000</td>\n",
       "      <td>4433.333333</td>\n",
       "      <td>5666.666667</td>\n",
       "      <td>86.838205</td>\n",
       "      <td>0.331082</td>\n",
       "    </tr>\n",
       "  </tbody>\n",
       "</table>\n",
       "</div>"
      ],
      "text/plain": [
       "       LIMIT_BAL  EDUCATION  MARRIAGE  AGE  PAY_0  PAY_2  PAY_3  PAY_4  PAY_5  \\\n",
       "21753  80000.0    1          0         24   0      0      0      0      0       \n",
       "251    30000.0    1          0         28   0      0      0      0      0       \n",
       "22941  180000.0   0          1         44   0      0      0      0      0       \n",
       "618    60000.0    1          0         25   0      0      0      0      0       \n",
       "17090  130000.0   1          0         25   0      0      0      0      0       \n",
       "\n",
       "       PAY_6  BILL_AMT1  PAY_AMT1  PAY_AMT2  PAY_AMT3  PAY_AMT4  PAY_AMT5  \\\n",
       "21753  0      75125.0    3503.0    5001.0    2092.0    1218.0    1445.0     \n",
       "251    0      29242.0    5006.0    1244.0    851.0     955.0     0.0        \n",
       "22941  0      20916.0    0.0       850.0     0.0       6881.0    10340.0    \n",
       "618    0      58839.0    2018.0    1900.0    2000.0    1500.0    1900.0     \n",
       "17090  0      111587.0   4100.0    4200.0    5000.0    5000.0    5000.0     \n",
       "\n",
       "       PAY_AMT6  default.payment.next.month      AVG_BAL_3      AVG_BAL_6  \\\n",
       "21753  878.0     0                           76933.000000   63938.333333    \n",
       "251    0.0       0                           29301.333333   22526.666667    \n",
       "22941  182.0     0                           7255.333333    6497.833333     \n",
       "618    2000.0    0                           50202.333333   44834.166667    \n",
       "17090  10700.0   0                           112889.666667  116875.000000   \n",
       "\n",
       "         AVG_PAY_3    AVG_PAY_6  AVG_UTL_3    PIT-PD  \n",
       "21753  3532.000000  2356.166667  96.166250  0.311771  \n",
       "251    2367.000000  1342.666667  97.671111  0.318828  \n",
       "22941  283.333333   3042.166667  4.030741   0.201100  \n",
       "618    1972.666667  1886.333333  83.670556  0.319779  \n",
       "17090  4433.333333  5666.666667  86.838205  0.331082  "
      ]
     },
     "execution_count": 39,
     "metadata": {},
     "output_type": "execute_result"
    }
   ],
   "source": [
    "x_train['PIT-PD'] = a\n",
    "x_train.head()"
   ]
  },
  {
   "cell_type": "code",
   "execution_count": 40,
   "metadata": {},
   "outputs": [
    {
     "data": {
      "text/html": [
       "<div>\n",
       "<style scoped>\n",
       "    .dataframe tbody tr th:only-of-type {\n",
       "        vertical-align: middle;\n",
       "    }\n",
       "\n",
       "    .dataframe tbody tr th {\n",
       "        vertical-align: top;\n",
       "    }\n",
       "\n",
       "    .dataframe thead th {\n",
       "        text-align: right;\n",
       "    }\n",
       "</style>\n",
       "<table border=\"1\" class=\"dataframe\">\n",
       "  <thead>\n",
       "    <tr style=\"text-align: right;\">\n",
       "      <th></th>\n",
       "      <th>LIMIT_BAL</th>\n",
       "      <th>EDUCATION</th>\n",
       "      <th>MARRIAGE</th>\n",
       "      <th>AGE</th>\n",
       "      <th>PAY_0</th>\n",
       "      <th>PAY_2</th>\n",
       "      <th>PAY_3</th>\n",
       "      <th>PAY_4</th>\n",
       "      <th>PAY_5</th>\n",
       "      <th>PAY_6</th>\n",
       "      <th>BILL_AMT1</th>\n",
       "      <th>PAY_AMT1</th>\n",
       "      <th>PAY_AMT2</th>\n",
       "      <th>PAY_AMT3</th>\n",
       "      <th>PAY_AMT4</th>\n",
       "      <th>PAY_AMT5</th>\n",
       "      <th>PAY_AMT6</th>\n",
       "      <th>default.payment.next.month</th>\n",
       "      <th>AVG_BAL_3</th>\n",
       "      <th>AVG_BAL_6</th>\n",
       "      <th>AVG_PAY_3</th>\n",
       "      <th>AVG_PAY_6</th>\n",
       "      <th>AVG_UTL_3</th>\n",
       "      <th>PIT-PD</th>\n",
       "    </tr>\n",
       "  </thead>\n",
       "  <tbody>\n",
       "    <tr>\n",
       "      <th>2308</th>\n",
       "      <td>30000.0</td>\n",
       "      <td>1</td>\n",
       "      <td>0</td>\n",
       "      <td>25</td>\n",
       "      <td>0</td>\n",
       "      <td>0</td>\n",
       "      <td>0</td>\n",
       "      <td>0</td>\n",
       "      <td>0</td>\n",
       "      <td>0</td>\n",
       "      <td>8864.0</td>\n",
       "      <td>1500.0</td>\n",
       "      <td>2000.0</td>\n",
       "      <td>1500.0</td>\n",
       "      <td>1500.0</td>\n",
       "      <td>1500.0</td>\n",
       "      <td>2000.0</td>\n",
       "      <td>0</td>\n",
       "      <td>10169.0</td>\n",
       "      <td>11938.500000</td>\n",
       "      <td>1666.666667</td>\n",
       "      <td>1666.666667</td>\n",
       "      <td>33.896667</td>\n",
       "      <td>0.386011</td>\n",
       "    </tr>\n",
       "    <tr>\n",
       "      <th>22404</th>\n",
       "      <td>150000.0</td>\n",
       "      <td>1</td>\n",
       "      <td>0</td>\n",
       "      <td>26</td>\n",
       "      <td>0</td>\n",
       "      <td>0</td>\n",
       "      <td>0</td>\n",
       "      <td>0</td>\n",
       "      <td>0</td>\n",
       "      <td>0</td>\n",
       "      <td>136736.0</td>\n",
       "      <td>4486.0</td>\n",
       "      <td>4235.0</td>\n",
       "      <td>3161.0</td>\n",
       "      <td>2647.0</td>\n",
       "      <td>2669.0</td>\n",
       "      <td>2669.0</td>\n",
       "      <td>0</td>\n",
       "      <td>126357.0</td>\n",
       "      <td>105942.833333</td>\n",
       "      <td>3960.666667</td>\n",
       "      <td>3311.166667</td>\n",
       "      <td>84.238000</td>\n",
       "      <td>0.259924</td>\n",
       "    </tr>\n",
       "    <tr>\n",
       "      <th>23397</th>\n",
       "      <td>70000.0</td>\n",
       "      <td>0</td>\n",
       "      <td>1</td>\n",
       "      <td>32</td>\n",
       "      <td>0</td>\n",
       "      <td>0</td>\n",
       "      <td>0</td>\n",
       "      <td>0</td>\n",
       "      <td>0</td>\n",
       "      <td>0</td>\n",
       "      <td>70122.0</td>\n",
       "      <td>2431.0</td>\n",
       "      <td>3112.0</td>\n",
       "      <td>3000.0</td>\n",
       "      <td>2438.0</td>\n",
       "      <td>2500.0</td>\n",
       "      <td>2554.0</td>\n",
       "      <td>0</td>\n",
       "      <td>69244.0</td>\n",
       "      <td>69634.666667</td>\n",
       "      <td>2847.666667</td>\n",
       "      <td>2672.500000</td>\n",
       "      <td>98.920000</td>\n",
       "      <td>0.331134</td>\n",
       "    </tr>\n",
       "    <tr>\n",
       "      <th>25058</th>\n",
       "      <td>130000.0</td>\n",
       "      <td>0</td>\n",
       "      <td>0</td>\n",
       "      <td>49</td>\n",
       "      <td>0</td>\n",
       "      <td>0</td>\n",
       "      <td>0</td>\n",
       "      <td>0</td>\n",
       "      <td>0</td>\n",
       "      <td>0</td>\n",
       "      <td>20678.0</td>\n",
       "      <td>1610.0</td>\n",
       "      <td>1808.0</td>\n",
       "      <td>7014.0</td>\n",
       "      <td>27.0</td>\n",
       "      <td>7011.0</td>\n",
       "      <td>4408.0</td>\n",
       "      <td>0</td>\n",
       "      <td>18602.0</td>\n",
       "      <td>15147.333333</td>\n",
       "      <td>3477.333333</td>\n",
       "      <td>3646.333333</td>\n",
       "      <td>14.309231</td>\n",
       "      <td>0.245561</td>\n",
       "    </tr>\n",
       "    <tr>\n",
       "      <th>2664</th>\n",
       "      <td>50000.0</td>\n",
       "      <td>1</td>\n",
       "      <td>0</td>\n",
       "      <td>36</td>\n",
       "      <td>0</td>\n",
       "      <td>0</td>\n",
       "      <td>0</td>\n",
       "      <td>0</td>\n",
       "      <td>0</td>\n",
       "      <td>2</td>\n",
       "      <td>94228.0</td>\n",
       "      <td>2000.0</td>\n",
       "      <td>1500.0</td>\n",
       "      <td>1000.0</td>\n",
       "      <td>1800.0</td>\n",
       "      <td>0.0</td>\n",
       "      <td>1000.0</td>\n",
       "      <td>1</td>\n",
       "      <td>61408.0</td>\n",
       "      <td>40588.666667</td>\n",
       "      <td>1500.000000</td>\n",
       "      <td>1216.666667</td>\n",
       "      <td>122.816000</td>\n",
       "      <td>0.219158</td>\n",
       "    </tr>\n",
       "  </tbody>\n",
       "</table>\n",
       "</div>"
      ],
      "text/plain": [
       "       LIMIT_BAL  EDUCATION  MARRIAGE  AGE  PAY_0  PAY_2  PAY_3  PAY_4  PAY_5  \\\n",
       "2308   30000.0    1          0         25   0      0      0      0      0       \n",
       "22404  150000.0   1          0         26   0      0      0      0      0       \n",
       "23397  70000.0    0          1         32   0      0      0      0      0       \n",
       "25058  130000.0   0          0         49   0      0      0      0      0       \n",
       "2664   50000.0    1          0         36   0      0      0      0      0       \n",
       "\n",
       "       PAY_6  BILL_AMT1  PAY_AMT1  PAY_AMT2  PAY_AMT3  PAY_AMT4  PAY_AMT5  \\\n",
       "2308   0      8864.0     1500.0    2000.0    1500.0    1500.0    1500.0     \n",
       "22404  0      136736.0   4486.0    4235.0    3161.0    2647.0    2669.0     \n",
       "23397  0      70122.0    2431.0    3112.0    3000.0    2438.0    2500.0     \n",
       "25058  0      20678.0    1610.0    1808.0    7014.0    27.0      7011.0     \n",
       "2664   2      94228.0    2000.0    1500.0    1000.0    1800.0    0.0        \n",
       "\n",
       "       PAY_AMT6  default.payment.next.month  AVG_BAL_3      AVG_BAL_6  \\\n",
       "2308   2000.0    0                           10169.0    11938.500000    \n",
       "22404  2669.0    0                           126357.0   105942.833333   \n",
       "23397  2554.0    0                           69244.0    69634.666667    \n",
       "25058  4408.0    0                           18602.0    15147.333333    \n",
       "2664   1000.0    1                           61408.0    40588.666667    \n",
       "\n",
       "         AVG_PAY_3    AVG_PAY_6   AVG_UTL_3    PIT-PD  \n",
       "2308   1666.666667  1666.666667  33.896667   0.386011  \n",
       "22404  3960.666667  3311.166667  84.238000   0.259924  \n",
       "23397  2847.666667  2672.500000  98.920000   0.331134  \n",
       "25058  3477.333333  3646.333333  14.309231   0.245561  \n",
       "2664   1500.000000  1216.666667  122.816000  0.219158  "
      ]
     },
     "execution_count": 40,
     "metadata": {},
     "output_type": "execute_result"
    }
   ],
   "source": [
    "x_test['PIT-PD'] = b\n",
    "x_test.head()"
   ]
  },
  {
   "cell_type": "code",
   "execution_count": 41,
   "metadata": {},
   "outputs": [
    {
     "data": {
      "text/plain": [
       "(24000, 24)"
      ]
     },
     "execution_count": 41,
     "metadata": {},
     "output_type": "execute_result"
    },
    {
     "data": {
      "text/plain": [
       "(6000, 24)"
      ]
     },
     "execution_count": 41,
     "metadata": {},
     "output_type": "execute_result"
    }
   ],
   "source": [
    "x_train.shape\n",
    "x_test.shape"
   ]
  },
  {
   "cell_type": "markdown",
   "metadata": {},
   "source": [
    "------------------------"
   ]
  },
  {
   "cell_type": "markdown",
   "metadata": {},
   "source": [
    "#### Final dataset to perform custering"
   ]
  },
  {
   "cell_type": "code",
   "execution_count": 42,
   "metadata": {},
   "outputs": [
    {
     "data": {
      "text/plain": [
       "(30000, 24)"
      ]
     },
     "execution_count": 42,
     "metadata": {},
     "output_type": "execute_result"
    },
    {
     "data": {
      "text/html": [
       "<div>\n",
       "<style scoped>\n",
       "    .dataframe tbody tr th:only-of-type {\n",
       "        vertical-align: middle;\n",
       "    }\n",
       "\n",
       "    .dataframe tbody tr th {\n",
       "        vertical-align: top;\n",
       "    }\n",
       "\n",
       "    .dataframe thead th {\n",
       "        text-align: right;\n",
       "    }\n",
       "</style>\n",
       "<table border=\"1\" class=\"dataframe\">\n",
       "  <thead>\n",
       "    <tr style=\"text-align: right;\">\n",
       "      <th></th>\n",
       "      <th>LIMIT_BAL</th>\n",
       "      <th>EDUCATION</th>\n",
       "      <th>MARRIAGE</th>\n",
       "      <th>AGE</th>\n",
       "      <th>PAY_0</th>\n",
       "      <th>PAY_2</th>\n",
       "      <th>PAY_3</th>\n",
       "      <th>PAY_4</th>\n",
       "      <th>PAY_5</th>\n",
       "      <th>PAY_6</th>\n",
       "      <th>BILL_AMT1</th>\n",
       "      <th>PAY_AMT1</th>\n",
       "      <th>PAY_AMT2</th>\n",
       "      <th>PAY_AMT3</th>\n",
       "      <th>PAY_AMT4</th>\n",
       "      <th>PAY_AMT5</th>\n",
       "      <th>PAY_AMT6</th>\n",
       "      <th>default.payment.next.month</th>\n",
       "      <th>AVG_BAL_3</th>\n",
       "      <th>AVG_BAL_6</th>\n",
       "      <th>AVG_PAY_3</th>\n",
       "      <th>AVG_PAY_6</th>\n",
       "      <th>AVG_UTL_3</th>\n",
       "      <th>PIT-PD</th>\n",
       "    </tr>\n",
       "  </thead>\n",
       "  <tbody>\n",
       "    <tr>\n",
       "      <th>0</th>\n",
       "      <td>80000.0</td>\n",
       "      <td>1</td>\n",
       "      <td>0</td>\n",
       "      <td>24</td>\n",
       "      <td>0</td>\n",
       "      <td>0</td>\n",
       "      <td>0</td>\n",
       "      <td>0</td>\n",
       "      <td>0</td>\n",
       "      <td>0</td>\n",
       "      <td>75125.0</td>\n",
       "      <td>3503.0</td>\n",
       "      <td>5001.0</td>\n",
       "      <td>2092.0</td>\n",
       "      <td>1218.0</td>\n",
       "      <td>1445.0</td>\n",
       "      <td>878.0</td>\n",
       "      <td>0</td>\n",
       "      <td>76933.000000</td>\n",
       "      <td>63938.333333</td>\n",
       "      <td>3532.000000</td>\n",
       "      <td>2356.166667</td>\n",
       "      <td>96.166250</td>\n",
       "      <td>0.311771</td>\n",
       "    </tr>\n",
       "    <tr>\n",
       "      <th>1</th>\n",
       "      <td>30000.0</td>\n",
       "      <td>1</td>\n",
       "      <td>0</td>\n",
       "      <td>28</td>\n",
       "      <td>0</td>\n",
       "      <td>0</td>\n",
       "      <td>0</td>\n",
       "      <td>0</td>\n",
       "      <td>0</td>\n",
       "      <td>0</td>\n",
       "      <td>29242.0</td>\n",
       "      <td>5006.0</td>\n",
       "      <td>1244.0</td>\n",
       "      <td>851.0</td>\n",
       "      <td>955.0</td>\n",
       "      <td>0.0</td>\n",
       "      <td>0.0</td>\n",
       "      <td>0</td>\n",
       "      <td>29301.333333</td>\n",
       "      <td>22526.666667</td>\n",
       "      <td>2367.000000</td>\n",
       "      <td>1342.666667</td>\n",
       "      <td>97.671111</td>\n",
       "      <td>0.318828</td>\n",
       "    </tr>\n",
       "    <tr>\n",
       "      <th>2</th>\n",
       "      <td>180000.0</td>\n",
       "      <td>0</td>\n",
       "      <td>1</td>\n",
       "      <td>44</td>\n",
       "      <td>0</td>\n",
       "      <td>0</td>\n",
       "      <td>0</td>\n",
       "      <td>0</td>\n",
       "      <td>0</td>\n",
       "      <td>0</td>\n",
       "      <td>20916.0</td>\n",
       "      <td>0.0</td>\n",
       "      <td>850.0</td>\n",
       "      <td>0.0</td>\n",
       "      <td>6881.0</td>\n",
       "      <td>10340.0</td>\n",
       "      <td>182.0</td>\n",
       "      <td>0</td>\n",
       "      <td>7255.333333</td>\n",
       "      <td>6497.833333</td>\n",
       "      <td>283.333333</td>\n",
       "      <td>3042.166667</td>\n",
       "      <td>4.030741</td>\n",
       "      <td>0.201100</td>\n",
       "    </tr>\n",
       "    <tr>\n",
       "      <th>3</th>\n",
       "      <td>60000.0</td>\n",
       "      <td>1</td>\n",
       "      <td>0</td>\n",
       "      <td>25</td>\n",
       "      <td>0</td>\n",
       "      <td>0</td>\n",
       "      <td>0</td>\n",
       "      <td>0</td>\n",
       "      <td>0</td>\n",
       "      <td>0</td>\n",
       "      <td>58839.0</td>\n",
       "      <td>2018.0</td>\n",
       "      <td>1900.0</td>\n",
       "      <td>2000.0</td>\n",
       "      <td>1500.0</td>\n",
       "      <td>1900.0</td>\n",
       "      <td>2000.0</td>\n",
       "      <td>0</td>\n",
       "      <td>50202.333333</td>\n",
       "      <td>44834.166667</td>\n",
       "      <td>1972.666667</td>\n",
       "      <td>1886.333333</td>\n",
       "      <td>83.670556</td>\n",
       "      <td>0.319779</td>\n",
       "    </tr>\n",
       "    <tr>\n",
       "      <th>4</th>\n",
       "      <td>130000.0</td>\n",
       "      <td>1</td>\n",
       "      <td>0</td>\n",
       "      <td>25</td>\n",
       "      <td>0</td>\n",
       "      <td>0</td>\n",
       "      <td>0</td>\n",
       "      <td>0</td>\n",
       "      <td>0</td>\n",
       "      <td>0</td>\n",
       "      <td>111587.0</td>\n",
       "      <td>4100.0</td>\n",
       "      <td>4200.0</td>\n",
       "      <td>5000.0</td>\n",
       "      <td>5000.0</td>\n",
       "      <td>5000.0</td>\n",
       "      <td>10700.0</td>\n",
       "      <td>0</td>\n",
       "      <td>112889.666667</td>\n",
       "      <td>116875.000000</td>\n",
       "      <td>4433.333333</td>\n",
       "      <td>5666.666667</td>\n",
       "      <td>86.838205</td>\n",
       "      <td>0.331082</td>\n",
       "    </tr>\n",
       "  </tbody>\n",
       "</table>\n",
       "</div>"
      ],
      "text/plain": [
       "   LIMIT_BAL  EDUCATION  MARRIAGE  AGE  PAY_0  PAY_2  PAY_3  PAY_4  PAY_5  \\\n",
       "0  80000.0    1          0         24   0      0      0      0      0       \n",
       "1  30000.0    1          0         28   0      0      0      0      0       \n",
       "2  180000.0   0          1         44   0      0      0      0      0       \n",
       "3  60000.0    1          0         25   0      0      0      0      0       \n",
       "4  130000.0   1          0         25   0      0      0      0      0       \n",
       "\n",
       "   PAY_6  BILL_AMT1  PAY_AMT1  PAY_AMT2  PAY_AMT3  PAY_AMT4  PAY_AMT5  \\\n",
       "0  0      75125.0    3503.0    5001.0    2092.0    1218.0    1445.0     \n",
       "1  0      29242.0    5006.0    1244.0    851.0     955.0     0.0        \n",
       "2  0      20916.0    0.0       850.0     0.0       6881.0    10340.0    \n",
       "3  0      58839.0    2018.0    1900.0    2000.0    1500.0    1900.0     \n",
       "4  0      111587.0   4100.0    4200.0    5000.0    5000.0    5000.0     \n",
       "\n",
       "   PAY_AMT6  default.payment.next.month      AVG_BAL_3      AVG_BAL_6  \\\n",
       "0  878.0     0                           76933.000000   63938.333333    \n",
       "1  0.0       0                           29301.333333   22526.666667    \n",
       "2  182.0     0                           7255.333333    6497.833333     \n",
       "3  2000.0    0                           50202.333333   44834.166667    \n",
       "4  10700.0   0                           112889.666667  116875.000000   \n",
       "\n",
       "     AVG_PAY_3    AVG_PAY_6  AVG_UTL_3    PIT-PD  \n",
       "0  3532.000000  2356.166667  96.166250  0.311771  \n",
       "1  2367.000000  1342.666667  97.671111  0.318828  \n",
       "2  283.333333   3042.166667  4.030741   0.201100  \n",
       "3  1972.666667  1886.333333  83.670556  0.319779  \n",
       "4  4433.333333  5666.666667  86.838205  0.331082  "
      ]
     },
     "execution_count": 42,
     "metadata": {},
     "output_type": "execute_result"
    }
   ],
   "source": [
    "finaldata = pd.concat([x_train, x_test], ignore_index=True, sort =False)\n",
    "finaldata.shape\n",
    "finaldata.head()"
   ]
  },
  {
   "cell_type": "markdown",
   "metadata": {},
   "source": [
    "### <font color = green>9.Clustering to obtain Consumer Risk Grades CRG\n",
    "We will be using only 2 variables for out clusters - BILL_AMT1 and PIT-PD"
   ]
  },
  {
   "cell_type": "markdown",
   "metadata": {},
   "source": [
    "##### Lets create a dataframe using those columns"
   ]
  },
  {
   "cell_type": "code",
   "execution_count": 43,
   "metadata": {},
   "outputs": [
    {
     "data": {
      "text/plain": [
       "(24000, 2)"
      ]
     },
     "execution_count": 43,
     "metadata": {},
     "output_type": "execute_result"
    }
   ],
   "source": [
    "new = x_train.filter(['BILL_AMT1','PIT-PD'], axis=1)\n",
    "new.shape"
   ]
  },
  {
   "cell_type": "code",
   "execution_count": 44,
   "metadata": {},
   "outputs": [
    {
     "data": {
      "text/plain": [
       "(6000, 2)"
      ]
     },
     "execution_count": 44,
     "metadata": {},
     "output_type": "execute_result"
    }
   ],
   "source": [
    "new_test = x_test.filter(['BILL_AMT1','PIT-PD'], axis=1)\n",
    "new_test.shape"
   ]
  },
  {
   "cell_type": "code",
   "execution_count": 45,
   "metadata": {},
   "outputs": [
    {
     "data": {
      "text/plain": [
       "BILL_AMT1    0\n",
       "PIT-PD       0\n",
       "dtype: int64"
      ]
     },
     "execution_count": 45,
     "metadata": {},
     "output_type": "execute_result"
    }
   ],
   "source": [
    "new.isnull().sum()"
   ]
  },
  {
   "cell_type": "code",
   "execution_count": 48,
   "metadata": {},
   "outputs": [
    {
     "data": {
      "text/plain": [
       "[<matplotlib.lines.Line2D at 0x24eaf1ab518>]"
      ]
     },
     "execution_count": 48,
     "metadata": {},
     "output_type": "execute_result"
    },
    {
     "data": {
      "text/plain": [
       "Text(0.5, 0, 'Number of Clusters')"
      ]
     },
     "execution_count": 48,
     "metadata": {},
     "output_type": "execute_result"
    },
    {
     "data": {
      "text/plain": [
       "Text(0, 0.5, 'Score')"
      ]
     },
     "execution_count": 48,
     "metadata": {},
     "output_type": "execute_result"
    },
    {
     "data": {
      "text/plain": [
       "Text(0.5, 1.0, 'Elbow Curve')"
      ]
     },
     "execution_count": 48,
     "metadata": {},
     "output_type": "execute_result"
    },
    {
     "data": {
      "image/png": "[encoded data removed]",
      "text/plain": [
       "<Figure size 432x288 with 1 Axes>"
      ]
     },
     "metadata": {
      "needs_background": "light"
     },
     "output_type": "display_data"
    }
   ],
   "source": [
    "from scipy import stats\n",
    "import pylab as pl\n",
    "from sklearn.cluster import KMeans\n",
    "number_of_clusters = range(1,10)\n",
    "kmeans = [KMeans(n_clusters=i,max_iter=1000,random_state=42) for i in number_of_clusters]\n",
    "score = [-1*kmeans[i].fit(new).score(new) for i in range(len(kmeans))]\n",
    "pl.plot(number_of_clusters,score)\n",
    "pl.xlabel('Number of Clusters')\n",
    "pl.ylabel('Score')\n",
    "pl.title('Elbow Curve')\n",
    "pl.show()"
   ]
  },
  {
   "cell_type": "markdown",
   "metadata": {},
   "source": [
    "Even though the \"elbow\" is located at $K=3$, we will use  $K=6$ for better explanation of the data"
   ]
  },
  {
   "cell_type": "code",
   "execution_count": 49,
   "metadata": {},
   "outputs": [],
   "source": [
    "k_means_test = KMeans(n_clusters=6,max_iter=1000,random_state=42)"
   ]
  },
  {
   "cell_type": "code",
   "execution_count": 50,
   "metadata": {},
   "outputs": [
    {
     "data": {
      "text/plain": [
       "5894322878178.154"
      ]
     },
     "execution_count": 50,
     "metadata": {},
     "output_type": "execute_result"
    }
   ],
   "source": [
    "-1*k_means_test.fit(new).score(new)"
   ]
  },
  {
   "cell_type": "code",
   "execution_count": 51,
   "metadata": {},
   "outputs": [],
   "source": [
    "new['labels'] = k_means_test.labels_"
   ]
  },
  {
   "cell_type": "code",
   "execution_count": 52,
   "metadata": {},
   "outputs": [
    {
     "name": "stdout",
     "output_type": "stream",
     "text": [
      "   labels  number_of_points  percentage\n",
      "0  0       2903              0.120958  \n",
      "1  1       12989             0.541208  \n",
      "2  2       1610              0.067083  \n",
      "3  3       221               0.009208  \n",
      "4  4       5569              0.232042  \n",
      "5  5       708               0.029500  \n"
     ]
    }
   ],
   "source": [
    "size_of_each_cluster = new.groupby('labels').size().reset_index()\n",
    "size_of_each_cluster.columns = ['labels','number_of_points']\n",
    "size_of_each_cluster['percentage'] = size_of_each_cluster['number_of_points']/np.sum(size_of_each_cluster['number_of_points'])\n",
    "\n",
    "print(size_of_each_cluster)"
   ]
  },
  {
   "cell_type": "code",
   "execution_count": 53,
   "metadata": {},
   "outputs": [
    {
     "data": {
      "text/html": [
       "<div>\n",
       "<style scoped>\n",
       "    .dataframe tbody tr th:only-of-type {\n",
       "        vertical-align: middle;\n",
       "    }\n",
       "\n",
       "    .dataframe tbody tr th {\n",
       "        vertical-align: top;\n",
       "    }\n",
       "\n",
       "    .dataframe thead th {\n",
       "        text-align: right;\n",
       "    }\n",
       "</style>\n",
       "<table border=\"1\" class=\"dataframe\">\n",
       "  <thead>\n",
       "    <tr style=\"text-align: right;\">\n",
       "      <th></th>\n",
       "      <th>BILL_AMT1</th>\n",
       "      <th>PIT-PD</th>\n",
       "      <th>labels</th>\n",
       "    </tr>\n",
       "  </thead>\n",
       "  <tbody>\n",
       "    <tr>\n",
       "      <th>21753</th>\n",
       "      <td>75125.0</td>\n",
       "      <td>0.311771</td>\n",
       "      <td>0</td>\n",
       "    </tr>\n",
       "    <tr>\n",
       "      <th>251</th>\n",
       "      <td>29242.0</td>\n",
       "      <td>0.318828</td>\n",
       "      <td>4</td>\n",
       "    </tr>\n",
       "    <tr>\n",
       "      <th>22941</th>\n",
       "      <td>20916.0</td>\n",
       "      <td>0.201100</td>\n",
       "      <td>1</td>\n",
       "    </tr>\n",
       "    <tr>\n",
       "      <th>618</th>\n",
       "      <td>58839.0</td>\n",
       "      <td>0.319779</td>\n",
       "      <td>4</td>\n",
       "    </tr>\n",
       "    <tr>\n",
       "      <th>17090</th>\n",
       "      <td>111587.0</td>\n",
       "      <td>0.331082</td>\n",
       "      <td>0</td>\n",
       "    </tr>\n",
       "  </tbody>\n",
       "</table>\n",
       "</div>"
      ],
      "text/plain": [
       "       BILL_AMT1    PIT-PD  labels\n",
       "21753  75125.0    0.311771  0     \n",
       "251    29242.0    0.318828  4     \n",
       "22941  20916.0    0.201100  1     \n",
       "618    58839.0    0.319779  4     \n",
       "17090  111587.0   0.331082  0     "
      ]
     },
     "execution_count": 53,
     "metadata": {},
     "output_type": "execute_result"
    }
   ],
   "source": [
    "new.head()"
   ]
  },
  {
   "cell_type": "markdown",
   "metadata": {},
   "source": [
    "### <font color = green> 10.\tCRG-PD Model "
   ]
  },
  {
   "cell_type": "code",
   "execution_count": 86,
   "metadata": {},
   "outputs": [],
   "source": [
    "crgpd = []\n",
    "for i in sorted(new['labels'].unique()):\n",
    "    crgpd.append(new[new['labels'] == i]['PIT-PD'].mean())"
   ]
  },
  {
   "cell_type": "code",
   "execution_count": 55,
   "metadata": {},
   "outputs": [
    {
     "data": {
      "text/plain": [
       "[0.2324431522347484,\n",
       " 0.24305006503685814,\n",
       " 0.19492216088561518,\n",
       " 0.11610307538586107,\n",
       " 0.26405918609783496,\n",
       " 0.1548123840171022]"
      ]
     },
     "execution_count": 55,
     "metadata": {},
     "output_type": "execute_result"
    }
   ],
   "source": [
    "crgpd"
   ]
  },
  {
   "cell_type": "code",
   "execution_count": 56,
   "metadata": {},
   "outputs": [
    {
     "data": {
      "text/plain": [
       "(24000, 3)"
      ]
     },
     "execution_count": 56,
     "metadata": {},
     "output_type": "execute_result"
    }
   ],
   "source": [
    "new.shape"
   ]
  },
  {
   "cell_type": "code",
   "execution_count": 57,
   "metadata": {},
   "outputs": [
    {
     "data": {
      "text/plain": [
       "<seaborn.axisgrid.FacetGrid at 0x24eaf739898>"
      ]
     },
     "execution_count": 57,
     "metadata": {},
     "output_type": "execute_result"
    },
    {
     "data": {
      "image/png": "[encoded data removed]",
      "text/plain": [
       "<Figure size 401.625x360 with 1 Axes>"
      ]
     },
     "metadata": {
      "needs_background": "light"
     },
     "output_type": "display_data"
    }
   ],
   "source": [
    "sns.lmplot('PIT-PD','BILL_AMT1', data=new,hue = 'labels', fit_reg=False)\n",
    "plt.show()"
   ]
  },
  {
   "cell_type": "code",
   "execution_count": 58,
   "metadata": {},
   "outputs": [
    {
     "data": {
      "text/html": [
       "<div>\n",
       "<style scoped>\n",
       "    .dataframe tbody tr th:only-of-type {\n",
       "        vertical-align: middle;\n",
       "    }\n",
       "\n",
       "    .dataframe tbody tr th {\n",
       "        vertical-align: top;\n",
       "    }\n",
       "\n",
       "    .dataframe thead th {\n",
       "        text-align: right;\n",
       "    }\n",
       "</style>\n",
       "<table border=\"1\" class=\"dataframe\">\n",
       "  <thead>\n",
       "    <tr style=\"text-align: right;\">\n",
       "      <th></th>\n",
       "      <th>x1</th>\n",
       "      <th>x2</th>\n",
       "    </tr>\n",
       "  </thead>\n",
       "  <tbody>\n",
       "    <tr>\n",
       "      <th>0</th>\n",
       "      <td>100629.996206</td>\n",
       "      <td>0.232243</td>\n",
       "    </tr>\n",
       "    <tr>\n",
       "      <th>1</th>\n",
       "      <td>7688.052709</td>\n",
       "      <td>0.243066</td>\n",
       "    </tr>\n",
       "    <tr>\n",
       "      <th>2</th>\n",
       "      <td>172503.050404</td>\n",
       "      <td>0.194878</td>\n",
       "    </tr>\n",
       "    <tr>\n",
       "      <th>3</th>\n",
       "      <td>439650.868778</td>\n",
       "      <td>0.116103</td>\n",
       "    </tr>\n",
       "    <tr>\n",
       "      <th>4</th>\n",
       "      <td>47295.815227</td>\n",
       "      <td>0.264106</td>\n",
       "    </tr>\n",
       "  </tbody>\n",
       "</table>\n",
       "</div>"
      ],
      "text/plain": [
       "              x1        x2\n",
       "0  100629.996206  0.232243\n",
       "1  7688.052709    0.243066\n",
       "2  172503.050404  0.194878\n",
       "3  439650.868778  0.116103\n",
       "4  47295.815227   0.264106"
      ]
     },
     "execution_count": 58,
     "metadata": {},
     "output_type": "execute_result"
    }
   ],
   "source": [
    "# Create a dataframe for cluster_centers (centroids)\n",
    "centroids = pd.DataFrame(k_means_test.cluster_centers_, columns=[\"x1\", \"x2\"])\n",
    "centroids.head()"
   ]
  },
  {
   "cell_type": "markdown",
   "metadata": {},
   "source": [
    "#### Predicting new clusters on the test dataset"
   ]
  },
  {
   "cell_type": "code",
   "execution_count": 59,
   "metadata": {},
   "outputs": [
    {
     "data": {
      "text/plain": [
       "6000"
      ]
     },
     "execution_count": 59,
     "metadata": {},
     "output_type": "execute_result"
    }
   ],
   "source": [
    "model = k_means_test.predict(new_test)\n",
    "len(model)"
   ]
  },
  {
   "cell_type": "code",
   "execution_count": 60,
   "metadata": {},
   "outputs": [
    {
     "data": {
      "text/html": [
       "<div>\n",
       "<style scoped>\n",
       "    .dataframe tbody tr th:only-of-type {\n",
       "        vertical-align: middle;\n",
       "    }\n",
       "\n",
       "    .dataframe tbody tr th {\n",
       "        vertical-align: top;\n",
       "    }\n",
       "\n",
       "    .dataframe thead th {\n",
       "        text-align: right;\n",
       "    }\n",
       "</style>\n",
       "<table border=\"1\" class=\"dataframe\">\n",
       "  <thead>\n",
       "    <tr style=\"text-align: right;\">\n",
       "      <th></th>\n",
       "      <th>BILL_AMT1</th>\n",
       "      <th>PIT-PD</th>\n",
       "      <th>labels</th>\n",
       "    </tr>\n",
       "  </thead>\n",
       "  <tbody>\n",
       "    <tr>\n",
       "      <th>2210</th>\n",
       "      <td>0.0</td>\n",
       "      <td>0.133182</td>\n",
       "      <td>1</td>\n",
       "    </tr>\n",
       "    <tr>\n",
       "      <th>14144</th>\n",
       "      <td>98541.0</td>\n",
       "      <td>0.072424</td>\n",
       "      <td>0</td>\n",
       "    </tr>\n",
       "    <tr>\n",
       "      <th>23108</th>\n",
       "      <td>46233.0</td>\n",
       "      <td>0.352657</td>\n",
       "      <td>4</td>\n",
       "    </tr>\n",
       "    <tr>\n",
       "      <th>25703</th>\n",
       "      <td>0.0</td>\n",
       "      <td>0.383470</td>\n",
       "      <td>1</td>\n",
       "    </tr>\n",
       "    <tr>\n",
       "      <th>29171</th>\n",
       "      <td>187070.0</td>\n",
       "      <td>0.066774</td>\n",
       "      <td>2</td>\n",
       "    </tr>\n",
       "  </tbody>\n",
       "</table>\n",
       "</div>"
      ],
      "text/plain": [
       "       BILL_AMT1    PIT-PD  labels\n",
       "2210   0.0        0.133182  1     \n",
       "14144  98541.0    0.072424  0     \n",
       "23108  46233.0    0.352657  4     \n",
       "25703  0.0        0.383470  1     \n",
       "29171  187070.0   0.066774  2     "
      ]
     },
     "execution_count": 60,
     "metadata": {},
     "output_type": "execute_result"
    }
   ],
   "source": [
    "new_test['labels'] = model\n",
    "new_test.tail()"
   ]
  },
  {
   "cell_type": "code",
   "execution_count": 61,
   "metadata": {},
   "outputs": [
    {
     "data": {
      "text/plain": [
       "[0, 1, 2, 3, 4, 5]"
      ]
     },
     "execution_count": 61,
     "metadata": {},
     "output_type": "execute_result"
    }
   ],
   "source": [
    "sorted(new_test['labels'].unique())"
   ]
  },
  {
   "cell_type": "markdown",
   "metadata": {},
   "source": [
    "### <font color = green> 11.\tTesting CRG-PD\n",
    "Adding default values to data to calculate error"
   ]
  },
  {
   "cell_type": "code",
   "execution_count": 63,
   "metadata": {},
   "outputs": [
    {
     "data": {
      "text/html": [
       "<div>\n",
       "<style scoped>\n",
       "    .dataframe tbody tr th:only-of-type {\n",
       "        vertical-align: middle;\n",
       "    }\n",
       "\n",
       "    .dataframe tbody tr th {\n",
       "        vertical-align: top;\n",
       "    }\n",
       "\n",
       "    .dataframe thead th {\n",
       "        text-align: right;\n",
       "    }\n",
       "</style>\n",
       "<table border=\"1\" class=\"dataframe\">\n",
       "  <thead>\n",
       "    <tr style=\"text-align: right;\">\n",
       "      <th></th>\n",
       "      <th>BILL_AMT1</th>\n",
       "      <th>PIT-PD</th>\n",
       "      <th>labels</th>\n",
       "      <th>default</th>\n",
       "    </tr>\n",
       "  </thead>\n",
       "  <tbody>\n",
       "    <tr>\n",
       "      <th>21753</th>\n",
       "      <td>75125.0</td>\n",
       "      <td>0.311771</td>\n",
       "      <td>0</td>\n",
       "      <td>0</td>\n",
       "    </tr>\n",
       "    <tr>\n",
       "      <th>251</th>\n",
       "      <td>29242.0</td>\n",
       "      <td>0.318828</td>\n",
       "      <td>4</td>\n",
       "      <td>0</td>\n",
       "    </tr>\n",
       "    <tr>\n",
       "      <th>22941</th>\n",
       "      <td>20916.0</td>\n",
       "      <td>0.201100</td>\n",
       "      <td>1</td>\n",
       "      <td>0</td>\n",
       "    </tr>\n",
       "    <tr>\n",
       "      <th>618</th>\n",
       "      <td>58839.0</td>\n",
       "      <td>0.319779</td>\n",
       "      <td>4</td>\n",
       "      <td>0</td>\n",
       "    </tr>\n",
       "    <tr>\n",
       "      <th>17090</th>\n",
       "      <td>111587.0</td>\n",
       "      <td>0.331082</td>\n",
       "      <td>0</td>\n",
       "      <td>0</td>\n",
       "    </tr>\n",
       "  </tbody>\n",
       "</table>\n",
       "</div>"
      ],
      "text/plain": [
       "       BILL_AMT1    PIT-PD  labels  default\n",
       "21753  75125.0    0.311771  0       0      \n",
       "251    29242.0    0.318828  4       0      \n",
       "22941  20916.0    0.201100  1       0      \n",
       "618    58839.0    0.319779  4       0      \n",
       "17090  111587.0   0.331082  0       0      "
      ]
     },
     "execution_count": 63,
     "metadata": {},
     "output_type": "execute_result"
    }
   ],
   "source": [
    "new['default'] = y_train\n",
    "new.head()"
   ]
  },
  {
   "cell_type": "code",
   "execution_count": 64,
   "metadata": {},
   "outputs": [
    {
     "data": {
      "text/html": [
       "<div>\n",
       "<style scoped>\n",
       "    .dataframe tbody tr th:only-of-type {\n",
       "        vertical-align: middle;\n",
       "    }\n",
       "\n",
       "    .dataframe tbody tr th {\n",
       "        vertical-align: top;\n",
       "    }\n",
       "\n",
       "    .dataframe thead th {\n",
       "        text-align: right;\n",
       "    }\n",
       "</style>\n",
       "<table border=\"1\" class=\"dataframe\">\n",
       "  <thead>\n",
       "    <tr style=\"text-align: right;\">\n",
       "      <th></th>\n",
       "      <th>BILL_AMT1</th>\n",
       "      <th>PIT-PD</th>\n",
       "      <th>labels</th>\n",
       "      <th>default</th>\n",
       "    </tr>\n",
       "  </thead>\n",
       "  <tbody>\n",
       "    <tr>\n",
       "      <th>2308</th>\n",
       "      <td>8864.0</td>\n",
       "      <td>0.386011</td>\n",
       "      <td>1</td>\n",
       "      <td>0</td>\n",
       "    </tr>\n",
       "    <tr>\n",
       "      <th>22404</th>\n",
       "      <td>136736.0</td>\n",
       "      <td>0.259924</td>\n",
       "      <td>2</td>\n",
       "      <td>0</td>\n",
       "    </tr>\n",
       "    <tr>\n",
       "      <th>23397</th>\n",
       "      <td>70122.0</td>\n",
       "      <td>0.331134</td>\n",
       "      <td>4</td>\n",
       "      <td>0</td>\n",
       "    </tr>\n",
       "    <tr>\n",
       "      <th>25058</th>\n",
       "      <td>20678.0</td>\n",
       "      <td>0.245561</td>\n",
       "      <td>1</td>\n",
       "      <td>0</td>\n",
       "    </tr>\n",
       "    <tr>\n",
       "      <th>2664</th>\n",
       "      <td>94228.0</td>\n",
       "      <td>0.219158</td>\n",
       "      <td>0</td>\n",
       "      <td>1</td>\n",
       "    </tr>\n",
       "  </tbody>\n",
       "</table>\n",
       "</div>"
      ],
      "text/plain": [
       "       BILL_AMT1    PIT-PD  labels  default\n",
       "2308   8864.0     0.386011  1       0      \n",
       "22404  136736.0   0.259924  2       0      \n",
       "23397  70122.0    0.331134  4       0      \n",
       "25058  20678.0    0.245561  1       0      \n",
       "2664   94228.0    0.219158  0       1      "
      ]
     },
     "execution_count": 64,
     "metadata": {},
     "output_type": "execute_result"
    }
   ],
   "source": [
    "new_test['default'] = y_test\n",
    "new_test.head()"
   ]
  },
  {
   "cell_type": "code",
   "execution_count": 65,
   "metadata": {},
   "outputs": [
    {
     "data": {
      "text/plain": [
       "[0.21081081081081082,\n",
       " 0.22896039603960397,\n",
       " 0.18009478672985782,\n",
       " 0.26785714285714285,\n",
       " 0.21227810650887574,\n",
       " 0.19696969696969696]"
      ]
     },
     "execution_count": 65,
     "metadata": {},
     "output_type": "execute_result"
    }
   ],
   "source": [
    "avg_def = []\n",
    "for i in sorted(new_test['labels'].unique()):\n",
    "    avg_def.append((new_test[new_test['labels'] == i]['default'].value_counts() / len(new_test[new_test['labels'] == i]))[1])\n",
    "    \n",
    "avg_def"
   ]
  },
  {
   "cell_type": "code",
   "execution_count": 66,
   "metadata": {},
   "outputs": [
    {
     "data": {
      "text/html": [
       "<div>\n",
       "<style scoped>\n",
       "    .dataframe tbody tr th:only-of-type {\n",
       "        vertical-align: middle;\n",
       "    }\n",
       "\n",
       "    .dataframe tbody tr th {\n",
       "        vertical-align: top;\n",
       "    }\n",
       "\n",
       "    .dataframe thead th {\n",
       "        text-align: right;\n",
       "    }\n",
       "</style>\n",
       "<table border=\"1\" class=\"dataframe\">\n",
       "  <thead>\n",
       "    <tr style=\"text-align: right;\">\n",
       "      <th></th>\n",
       "      <th>CLUSTER</th>\n",
       "      <th>CRG-PD</th>\n",
       "      <th>AVG-DEF</th>\n",
       "    </tr>\n",
       "  </thead>\n",
       "  <tbody>\n",
       "    <tr>\n",
       "      <th>0</th>\n",
       "      <td>0</td>\n",
       "      <td>0.232443</td>\n",
       "      <td>0.210811</td>\n",
       "    </tr>\n",
       "    <tr>\n",
       "      <th>1</th>\n",
       "      <td>1</td>\n",
       "      <td>0.243050</td>\n",
       "      <td>0.228960</td>\n",
       "    </tr>\n",
       "    <tr>\n",
       "      <th>2</th>\n",
       "      <td>2</td>\n",
       "      <td>0.194922</td>\n",
       "      <td>0.180095</td>\n",
       "    </tr>\n",
       "    <tr>\n",
       "      <th>3</th>\n",
       "      <td>3</td>\n",
       "      <td>0.116103</td>\n",
       "      <td>0.267857</td>\n",
       "    </tr>\n",
       "    <tr>\n",
       "      <th>4</th>\n",
       "      <td>4</td>\n",
       "      <td>0.264059</td>\n",
       "      <td>0.212278</td>\n",
       "    </tr>\n",
       "    <tr>\n",
       "      <th>5</th>\n",
       "      <td>5</td>\n",
       "      <td>0.154812</td>\n",
       "      <td>0.196970</td>\n",
       "    </tr>\n",
       "  </tbody>\n",
       "</table>\n",
       "</div>"
      ],
      "text/plain": [
       "   CLUSTER    CRG-PD   AVG-DEF\n",
       "0  0        0.232443  0.210811\n",
       "1  1        0.243050  0.228960\n",
       "2  2        0.194922  0.180095\n",
       "3  3        0.116103  0.267857\n",
       "4  4        0.264059  0.212278\n",
       "5  5        0.154812  0.196970"
      ]
     },
     "execution_count": 66,
     "metadata": {},
     "output_type": "execute_result"
    }
   ],
   "source": [
    "conclusion = pd.DataFrame({'CLUSTER':sorted(new_test['labels'].unique()), 'CRG-PD':crgpd, 'AVG-DEF':avg_def})\n",
    "conclusion.head(10)"
   ]
  },
  {
   "cell_type": "code",
   "execution_count": 67,
   "metadata": {},
   "outputs": [
    {
     "data": {
      "text/html": [
       "<div>\n",
       "<style scoped>\n",
       "    .dataframe tbody tr th:only-of-type {\n",
       "        vertical-align: middle;\n",
       "    }\n",
       "\n",
       "    .dataframe tbody tr th {\n",
       "        vertical-align: top;\n",
       "    }\n",
       "\n",
       "    .dataframe thead th {\n",
       "        text-align: right;\n",
       "    }\n",
       "</style>\n",
       "<table border=\"1\" class=\"dataframe\">\n",
       "  <thead>\n",
       "    <tr style=\"text-align: right;\">\n",
       "      <th></th>\n",
       "      <th>CLUSTER</th>\n",
       "      <th>CRG-PD</th>\n",
       "      <th>AVG-DEF</th>\n",
       "      <th>ERROR</th>\n",
       "    </tr>\n",
       "  </thead>\n",
       "  <tbody>\n",
       "    <tr>\n",
       "      <th>0</th>\n",
       "      <td>0</td>\n",
       "      <td>0.232443</td>\n",
       "      <td>0.210811</td>\n",
       "      <td>-0.102615</td>\n",
       "    </tr>\n",
       "    <tr>\n",
       "      <th>1</th>\n",
       "      <td>1</td>\n",
       "      <td>0.243050</td>\n",
       "      <td>0.228960</td>\n",
       "      <td>-0.061538</td>\n",
       "    </tr>\n",
       "    <tr>\n",
       "      <th>2</th>\n",
       "      <td>2</td>\n",
       "      <td>0.194922</td>\n",
       "      <td>0.180095</td>\n",
       "      <td>-0.082331</td>\n",
       "    </tr>\n",
       "    <tr>\n",
       "      <th>3</th>\n",
       "      <td>3</td>\n",
       "      <td>0.116103</td>\n",
       "      <td>0.267857</td>\n",
       "      <td>0.566549</td>\n",
       "    </tr>\n",
       "    <tr>\n",
       "      <th>4</th>\n",
       "      <td>4</td>\n",
       "      <td>0.264059</td>\n",
       "      <td>0.212278</td>\n",
       "      <td>-0.243930</td>\n",
       "    </tr>\n",
       "  </tbody>\n",
       "</table>\n",
       "</div>"
      ],
      "text/plain": [
       "   CLUSTER    CRG-PD   AVG-DEF     ERROR\n",
       "0  0        0.232443  0.210811 -0.102615\n",
       "1  1        0.243050  0.228960 -0.061538\n",
       "2  2        0.194922  0.180095 -0.082331\n",
       "3  3        0.116103  0.267857  0.566549\n",
       "4  4        0.264059  0.212278 -0.243930"
      ]
     },
     "execution_count": 67,
     "metadata": {},
     "output_type": "execute_result"
    }
   ],
   "source": [
    "conclusion['ERROR'] = (conclusion['AVG-DEF'] - conclusion['CRG-PD']) / conclusion['AVG-DEF']\n",
    "conclusion.head()"
   ]
  },
  {
   "cell_type": "markdown",
   "metadata": {},
   "source": [
    "### <font color = green> 12.\tDetermining OBLIGATORY CAPITAL."
   ]
  },
  {
   "cell_type": "code",
   "execution_count": 68,
   "metadata": {},
   "outputs": [
    {
     "data": {
      "text/plain": [
       "(30000, 4)"
      ]
     },
     "execution_count": 68,
     "metadata": {},
     "output_type": "execute_result"
    }
   ],
   "source": [
    "final = pd.concat([new, new_test])\n",
    "final.shape"
   ]
  },
  {
   "cell_type": "code",
   "execution_count": 69,
   "metadata": {},
   "outputs": [
    {
     "data": {
      "text/html": [
       "<div>\n",
       "<style scoped>\n",
       "    .dataframe tbody tr th:only-of-type {\n",
       "        vertical-align: middle;\n",
       "    }\n",
       "\n",
       "    .dataframe tbody tr th {\n",
       "        vertical-align: top;\n",
       "    }\n",
       "\n",
       "    .dataframe thead th {\n",
       "        text-align: right;\n",
       "    }\n",
       "</style>\n",
       "<table border=\"1\" class=\"dataframe\">\n",
       "  <thead>\n",
       "    <tr style=\"text-align: right;\">\n",
       "      <th></th>\n",
       "      <th>BILL_AMT1</th>\n",
       "      <th>PIT-PD</th>\n",
       "      <th>labels</th>\n",
       "      <th>default</th>\n",
       "    </tr>\n",
       "  </thead>\n",
       "  <tbody>\n",
       "    <tr>\n",
       "      <th>21753</th>\n",
       "      <td>75125.0</td>\n",
       "      <td>0.311771</td>\n",
       "      <td>0</td>\n",
       "      <td>0</td>\n",
       "    </tr>\n",
       "    <tr>\n",
       "      <th>251</th>\n",
       "      <td>29242.0</td>\n",
       "      <td>0.318828</td>\n",
       "      <td>4</td>\n",
       "      <td>0</td>\n",
       "    </tr>\n",
       "    <tr>\n",
       "      <th>22941</th>\n",
       "      <td>20916.0</td>\n",
       "      <td>0.201100</td>\n",
       "      <td>1</td>\n",
       "      <td>0</td>\n",
       "    </tr>\n",
       "    <tr>\n",
       "      <th>618</th>\n",
       "      <td>58839.0</td>\n",
       "      <td>0.319779</td>\n",
       "      <td>4</td>\n",
       "      <td>0</td>\n",
       "    </tr>\n",
       "    <tr>\n",
       "      <th>17090</th>\n",
       "      <td>111587.0</td>\n",
       "      <td>0.331082</td>\n",
       "      <td>0</td>\n",
       "      <td>0</td>\n",
       "    </tr>\n",
       "  </tbody>\n",
       "</table>\n",
       "</div>"
      ],
      "text/plain": [
       "       BILL_AMT1    PIT-PD  labels  default\n",
       "21753  75125.0    0.311771  0       0      \n",
       "251    29242.0    0.318828  4       0      \n",
       "22941  20916.0    0.201100  1       0      \n",
       "618    58839.0    0.319779  4       0      \n",
       "17090  111587.0   0.331082  0       0      "
      ]
     },
     "execution_count": 69,
     "metadata": {},
     "output_type": "execute_result"
    }
   ],
   "source": [
    "final.head()"
   ]
  },
  {
   "cell_type": "code",
   "execution_count": 70,
   "metadata": {},
   "outputs": [
    {
     "data": {
      "text/plain": [
       "0    8.493950e+07\n",
       "Name: CRG-PD, dtype: float64"
      ]
     },
     "execution_count": 70,
     "metadata": {},
     "output_type": "execute_result"
    }
   ],
   "source": [
    "final[final['labels'] == 0]['BILL_AMT1'].sum() * conclusion[conclusion['CLUSTER'] == 0]['CRG-PD']"
   ]
  },
  {
   "cell_type": "code",
   "execution_count": 71,
   "metadata": {},
   "outputs": [
    {
     "data": {
      "text/plain": [
       "[365420544.0, 124951472.0, 350457640.0, 121570892.0, 327696538.0, 246602841.0]"
      ]
     },
     "execution_count": 71,
     "metadata": {},
     "output_type": "execute_result"
    }
   ],
   "source": [
    "total_bal = []\n",
    "for i in sorted(final['labels'].unique()):\n",
    "    total_bal.append(final[final['labels'] == i]['BILL_AMT1'].sum())\n",
    "    \n",
    "total_bal"
   ]
  },
  {
   "cell_type": "code",
   "execution_count": 72,
   "metadata": {},
   "outputs": [
    {
     "data": {
      "text/plain": [
       "0    0.232443\n",
       "Name: CRG-PD, dtype: float64"
      ]
     },
     "execution_count": 72,
     "metadata": {},
     "output_type": "execute_result"
    }
   ],
   "source": [
    "conclusion[conclusion['CLUSTER'] == 0]['CRG-PD']"
   ]
  },
  {
   "cell_type": "code",
   "execution_count": 73,
   "metadata": {},
   "outputs": [
    {
     "data": {
      "text/plain": [
       "[84939503.13869658,\n",
       " 30369463.396051157,\n",
       " 68311960.487673,\n",
       " 14114754.438602373,\n",
       " 86531281.11135824,\n",
       " 38177173.7206004]"
      ]
     },
     "execution_count": 73,
     "metadata": {},
     "output_type": "execute_result"
    }
   ],
   "source": [
    "oblg_cap = []\n",
    "for i in sorted(final['labels'].unique()):\n",
    "    oblg_cap.append((total_bal[i] * conclusion[conclusion['CLUSTER'] == i]['CRG-PD'].values)[0])\n",
    "    \n",
    "oblg_cap"
   ]
  },
  {
   "cell_type": "code",
   "execution_count": 74,
   "metadata": {
    "scrolled": true
   },
   "outputs": [
    {
     "data": {
      "text/html": [
       "<div>\n",
       "<style scoped>\n",
       "    .dataframe tbody tr th:only-of-type {\n",
       "        vertical-align: middle;\n",
       "    }\n",
       "\n",
       "    .dataframe tbody tr th {\n",
       "        vertical-align: top;\n",
       "    }\n",
       "\n",
       "    .dataframe thead th {\n",
       "        text-align: right;\n",
       "    }\n",
       "</style>\n",
       "<table border=\"1\" class=\"dataframe\">\n",
       "  <thead>\n",
       "    <tr style=\"text-align: right;\">\n",
       "      <th></th>\n",
       "      <th>CLUSTER</th>\n",
       "      <th>TOTAL_BALANCE</th>\n",
       "      <th>CRG-PD</th>\n",
       "      <th>OBLIGATORY_CAPITAL</th>\n",
       "    </tr>\n",
       "  </thead>\n",
       "  <tbody>\n",
       "    <tr>\n",
       "      <th>0</th>\n",
       "      <td>0</td>\n",
       "      <td>365420544.0</td>\n",
       "      <td>0.232443</td>\n",
       "      <td>8.493950e+07</td>\n",
       "    </tr>\n",
       "    <tr>\n",
       "      <th>1</th>\n",
       "      <td>1</td>\n",
       "      <td>124951472.0</td>\n",
       "      <td>0.243050</td>\n",
       "      <td>3.036946e+07</td>\n",
       "    </tr>\n",
       "    <tr>\n",
       "      <th>2</th>\n",
       "      <td>2</td>\n",
       "      <td>350457640.0</td>\n",
       "      <td>0.194922</td>\n",
       "      <td>6.831196e+07</td>\n",
       "    </tr>\n",
       "    <tr>\n",
       "      <th>3</th>\n",
       "      <td>3</td>\n",
       "      <td>121570892.0</td>\n",
       "      <td>0.116103</td>\n",
       "      <td>1.411475e+07</td>\n",
       "    </tr>\n",
       "    <tr>\n",
       "      <th>4</th>\n",
       "      <td>4</td>\n",
       "      <td>327696538.0</td>\n",
       "      <td>0.264059</td>\n",
       "      <td>8.653128e+07</td>\n",
       "    </tr>\n",
       "    <tr>\n",
       "      <th>5</th>\n",
       "      <td>5</td>\n",
       "      <td>246602841.0</td>\n",
       "      <td>0.154812</td>\n",
       "      <td>3.817717e+07</td>\n",
       "    </tr>\n",
       "  </tbody>\n",
       "</table>\n",
       "</div>"
      ],
      "text/plain": [
       "   CLUSTER  TOTAL_BALANCE    CRG-PD  OBLIGATORY_CAPITAL\n",
       "0  0        365420544.0    0.232443  8.493950e+07      \n",
       "1  1        124951472.0    0.243050  3.036946e+07      \n",
       "2  2        350457640.0    0.194922  6.831196e+07      \n",
       "3  3        121570892.0    0.116103  1.411475e+07      \n",
       "4  4        327696538.0    0.264059  8.653128e+07      \n",
       "5  5        246602841.0    0.154812  3.817717e+07      "
      ]
     },
     "execution_count": 74,
     "metadata": {},
     "output_type": "execute_result"
    }
   ],
   "source": [
    "cash_reserve= pd.DataFrame({'CLUSTER': conclusion['CLUSTER'], 'TOTAL_BALANCE': total_bal, 'CRG-PD': conclusion['CRG-PD'], 'OBLIGATORY_CAPITAL': oblg_cap})\n",
    "cash_reserve.head(6)"
   ]
  },
  {
   "cell_type": "code",
   "execution_count": 83,
   "metadata": {},
   "outputs": [
    {
     "data": {
      "text/plain": [
       "1536699927.0"
      ]
     },
     "execution_count": 83,
     "metadata": {},
     "output_type": "execute_result"
    }
   ],
   "source": [
    "cash_reserve.iloc[:,1].sum()"
   ]
  },
  {
   "cell_type": "code",
   "execution_count": 84,
   "metadata": {},
   "outputs": [
    {
     "data": {
      "text/plain": [
       "322444136.29298174"
      ]
     },
     "execution_count": 84,
     "metadata": {},
     "output_type": "execute_result"
    }
   ],
   "source": [
    "cash_reserve.iloc[:,3].sum()"
   ]
  },
  {
   "cell_type": "code",
   "execution_count": 85,
   "metadata": {},
   "outputs": [
    {
     "data": {
      "text/plain": [
       "0.20982895269766075"
      ]
     },
     "execution_count": 85,
     "metadata": {},
     "output_type": "execute_result"
    }
   ],
   "source": [
    "cash_reserve.iloc[:,3].sum()/cash_reserve.iloc[:,1].sum()"
   ]
  }
 ],
 "metadata": {
  "hide_input": false,
  "kernelspec": {
   "display_name": "Python 3",
   "language": "python",
   "name": "python3"
  },
  "language_info": {
   "codemirror_mode": {
    "name": "ipython",
    "version": 3
   },
   "file_extension": ".py",
   "mimetype": "text/x-python",
   "name": "python",
   "nbconvert_exporter": "python",
   "pygments_lexer": "ipython3",
   "version": "3.7.4"
  },
  "toc": {
   "base_numbering": 1,
   "nav_menu": {},
   "number_sections": false,
   "sideBar": true,
   "skip_h1_title": false,
   "title_cell": "Table of Contents",
   "title_sidebar": "Contents",
   "toc_cell": false,
   "toc_position": {},
   "toc_section_display": true,
   "toc_window_display": false
  },
  "varInspector": {
   "cols": {
    "lenName": 16,
    "lenType": 16,
    "lenVar": 40
   },
   "kernels_config": {
    "python": {
     "delete_cmd_postfix": "",
     "delete_cmd_prefix": "del ",
     "library": "var_list.py",
     "varRefreshCmd": "print(var_dic_list())"
    },
    "r": {
     "delete_cmd_postfix": ") ",
     "delete_cmd_prefix": "rm(",
     "library": "var_list.r",
     "varRefreshCmd": "cat(var_dic_list()) "
    }
   },
   "types_to_exclude": [
    "module",
    "function",
    "builtin_function_or_method",
    "instance",
    "_Feature"
   ],
   "window_display": false
  }
 },
 "nbformat": 4,
 "nbformat_minor": 2
}
